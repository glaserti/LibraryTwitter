{
 "metadata": {
  "name": ""
 },
 "nbformat": 3,
 "nbformat_minor": 0,
 "worksheets": [
  {
   "cells": [
    {
     "cell_type": "raw",
     "metadata": {},
     "source": [
      "Gets the Conversation (based on the is reply to Key of the libraries timeline) of each tweet and returns the conversation as a LoD with following keys:\n",
      "\n",
      "u'hours_to_answer', u'is_follower', u'follower_local', u'original_is_question', u'original_screen_name', \n",
      "u'original_status_id', u'original_text', u'original_time', u'original_user_id', \n",
      "u'orphan', u'reply_is_answer', u'reply_status_id', u'reply_text', u'reply_time'\n",
      "\n",
      "\n",
      "Saves a file as csv with the following keys:\n",
      "u'hours_to_answer', u'is_follower', u'original_is_question', u'original_time',\n",
      "u'orphan', u'reply_is_answer', u'reply_time', u'follower_local'"
     ]
    },
    {
     "cell_type": "heading",
     "level": 2,
     "metadata": {},
     "source": [
      "1. Function Definitions"
     ]
    },
    {
     "cell_type": "heading",
     "level": 3,
     "metadata": {},
     "source": [
      "1. Authenticating @ Twitter"
     ]
    },
    {
     "cell_type": "code",
     "collapsed": false,
     "input": [
      "\n",
      "# All functions from MTSW 2 Ed.\n",
      "#\n",
      "# (added another error handler  (# 403) in function make_twitter_request\n",
      "#\n",
      "\n",
      "import time\n",
      "import twitter\n",
      "\n",
      "def oauth_login():\n",
      "    # XXX: Go to http://twitter.com/apps/new to create an app and get values\n",
      "    # for these credentials that you'll need to provide in place of these\n",
      "    # empty string values that are defined as placeholders.\n",
      "    # See https://dev.twitter.com/docs/auth/oauth for more information \n",
      "    # on Twitter's OAuth implementation.\n",
      "    \n",
      "    CONSUMER_KEY = \n",
      "    CONSUMER_SECRET =\n",
      "    OAUTH_TOKEN = \n",
      "    OAUTH_TOKEN_SECRET =    \n",
      "    auth = twitter.oauth.OAuth(OAUTH_TOKEN, OAUTH_TOKEN_SECRET,\n",
      "                               CONSUMER_KEY, CONSUMER_SECRET)\n",
      "    \n",
      "    twitter_api = twitter.Twitter(auth=auth)\n",
      "    return twitter_api\n",
      "\n",
      "# Sample usage\n",
      "twitter_api = oauth_login()    \n",
      "\n",
      "\n",
      "import sys\n",
      "from urllib2 import URLError\n",
      "from httplib import BadStatusLine\n",
      "\n",
      "def make_twitter_request(twitter_api_func, max_errors=10, *args, **kw): \n",
      "    \n",
      "    # A nested helper function that handles common HTTPErrors. Return an updated\n",
      "    # value for wait_period if the problem is a 500 level error. Block until the\n",
      "    # rate limit is reset if it's a rate limiting issue (429 error). Returns None\n",
      "    # for 401 and 404 errors, which requires special handling by the caller.\n",
      "    def handle_twitter_http_error(e, wait_period=2, sleep_when_rate_limited=True):\n",
      "    \n",
      "        if wait_period > 3600: # Seconds\n",
      "            print >> sys.stderr, 'Too many retries. Quitting.'\n",
      "            raise e\n",
      "    \n",
      "        # See https://dev.twitter.com/docs/error-codes-responses for common codes\n",
      "    \n",
      "        if e.e.code == 401:\n",
      "            print >> sys.stderr, 'Encountered 401 Error (Not Authorized)'\n",
      "            return None\n",
      "\n",
      "        if e.e.code == 403:                                                  # added error handler for 403 (TG)\n",
      "            print >> sys.stderr, 'Encountered 403 Error (Not Authorized)'\n",
      "            return None\n",
      "\n",
      "        elif e.e.code == 404:\n",
      "            print >> sys.stderr, 'Encountered 404 Error (Not Found)'\n",
      "            return None\n",
      "        elif e.e.code == 429: \n",
      "            print >> sys.stderr, 'Encountered 429 Error (Rate Limit Exceeded)'\n",
      "            if sleep_when_rate_limited:\n",
      "                print >> sys.stderr, \"Retrying in 15 minutes...ZzZ...\"\n",
      "                sys.stderr.flush()\n",
      "                time.sleep(60*15 + 5)\n",
      "                print >> sys.stderr, '...ZzZ...Awake now and trying again.'\n",
      "                return 2\n",
      "            else:\n",
      "                raise e # Caller must handle the rate limiting issue\n",
      "        elif e.e.code in (500, 502, 503, 504):\n",
      "            print >> sys.stderr, 'Encountered %i Error. Retrying in %i seconds' % \\\n",
      "                (e.e.code, wait_period)\n",
      "            time.sleep(wait_period)\n",
      "            wait_period *= 1.5\n",
      "            return wait_period\n",
      "        else:\n",
      "            raise e\n",
      "\n",
      "    # End of nested helper function\n",
      "    \n",
      "    wait_period = 2 \n",
      "    error_count = 0 \n",
      "\n",
      "    while True:\n",
      "        try:\n",
      "            return twitter_api_func(*args, **kw)\n",
      "        except twitter.api.TwitterHTTPError, e:\n",
      "            error_count = 0 \n",
      "            wait_period = handle_twitter_http_error(e, wait_period)\n",
      "            if wait_period is None:\n",
      "                return\n",
      "        except URLError, e:\n",
      "            error_count += 1\n",
      "            time.sleep(wait_period)\n",
      "            wait_period *= 1.5\n",
      "            print >> sys.stderr, \"URLError encountered. Continuing.\"\n",
      "            if error_count > max_errors:\n",
      "                print >> sys.stderr, \"Too many consecutive errors...bailing out.\"\n",
      "                raise\n",
      "        except BadStatusLine, e:\n",
      "            error_count += 1\n",
      "            time.sleep(wait_period)\n",
      "            wait_period *= 1.5\n",
      "            print >> sys.stderr, \"BadStatusLine encountered. Continuing.\"\n",
      "            if error_count > max_errors:\n",
      "                print >> sys.stderr, \"Too many consecutive errors...bailing out.\"\n",
      "                raise\n"
     ],
     "language": "python",
     "metadata": {},
     "outputs": [],
     "prompt_number": 23
    },
    {
     "cell_type": "heading",
     "level": 3,
     "metadata": {},
     "source": [
      "2. Helper Functions"
     ]
    },
    {
     "cell_type": "code",
     "collapsed": false,
     "input": [
      "import csv\n",
      "\n",
      "def impCSV(input_file):\n",
      "    '''\n",
      "    input_file = csv with keys: \"URL\", \"Twitter\"\n",
      "    output = list of dictionaries\n",
      "    '''\n",
      "    f = open(input_file, 'r')\n",
      "    d = csv.DictReader(f)\n",
      "    LoD = []   # list of dictionaries\n",
      "    for row in d:\n",
      "        LoD.append(row)\n",
      "    f.close()\n",
      "    return LoD\n",
      "\n",
      "def exp2CSV(listOfDict, screen_name):\n",
      "    '''\n",
      "    arguments = list of dictionaries, filename\n",
      "    output = saves file to cwd (current working directory)\n",
      "    '''\n",
      "    #creating the filename of the csv with current datestamp \n",
      "    import datetime\n",
      "    datestamp = datetime.datetime.now().strftime('%Y-%m-%d')    \n",
      "    outputfile = screen_name + '_ReplyStats_' + datestamp + '.csv'\n",
      "    keyz = listOfDict[0].keys()\n",
      "    f = open(outputfile,'w')\n",
      "    dict_writer = csv.DictWriter(f,keyz)\n",
      "    dict_writer.writer.writerow(keyz)\n",
      "    dict_writer.writerows(listOfDict)\n",
      "    f.close()\n",
      "    print 'Conversation statistics was saved as ' + outputfile + '.'\n",
      "\n",
      "def readJSON(filename):\n",
      "        import json\n",
      "        with open(filename) as f:\n",
      "            data = json.load(f)\n",
      "            return data\n",
      "\n",
      "def saveConversationAsJSON(timeline, user_name):\n",
      "    import io, json, datetime\n",
      "    datestamp = datetime.datetime.now().strftime('%Y-%m-%d')\n",
      "    filename = user_name + '_Conversation_' + datestamp + '.json'\n",
      "    with io.open(filename, 'w', encoding='utf-8') as f:\n",
      "        f.write(unicode(json.dumps(timeline, ensure_ascii=False)))\n",
      "    print 'Conversation archive was saved as ' + filename + '.'\n",
      "\n",
      "\n",
      "def sortLoD(listname, key):\n",
      "    from operator import itemgetter\n",
      "    listname.sort(key=itemgetter(key))         # sorting the list over the given key of the dictionary\n",
      "    return listname\n",
      "    \n",
      "# Helper function to search for value in a LoD (bisection search)    \n",
      "def bisectInLoD(listname, key, value):\n",
      "    '''\n",
      "    input: listname of sorted LoD (sortLoD-Function!), key and value\n",
      "    return index of key-value pair will be returned\n",
      "    '''\n",
      "    i_min = 0\n",
      "    i_max = len(listname) -1\n",
      "    i_mid = i_min + (i_max-i_min)/2\n",
      "    if str(value) == str(listname[i_min][key]):\n",
      "        return i_min\n",
      "    elif str(value) == str(listname[i_max][key]):\n",
      "        return i_max\n",
      "    #elif str(value) == str(listname[i_mid][key]):\n",
      "    #    return i_mid\n",
      "    else:\n",
      "        while str(value) != str(listname[i_mid][key]):\n",
      "            # print 'i_min', i_min, 'i_mid', i_mid,'i_max', i_max       #   T E S T\n",
      "            if i_mid == i_max or i_mid == i_min:\n",
      "                # print 'Some error occured!'                           #   T E S T\n",
      "                return None\n",
      "            elif str(value) > str(listname[i_mid][key]):\n",
      "                i_min = i_mid\n",
      "                i_mid = i_min + (i_max-i_min)/2            \n",
      "            elif str(value) < str(listname[i_mid][key]):\n",
      "                i_max = i_mid\n",
      "                i_mid = i_min + (i_max-i_min)/2\n",
      "    return i_mid\n"
     ],
     "language": "python",
     "metadata": {},
     "outputs": [],
     "prompt_number": 24
    },
    {
     "cell_type": "heading",
     "level": 3,
     "metadata": {},
     "source": [
      "3. Conversation Functions"
     ]
    },
    {
     "cell_type": "code",
     "collapsed": false,
     "input": [
      "def repliedToTweetList(screen_name, timestamp_Timeline, timestamp_Followers):\n",
      "    '''\n",
      "    input: screen_name of lib account and timestamps of the libs timeline & Followers\n",
      "    output: LoD \n",
      "    '''\n",
      "    # 1.\n",
      "    def getReplies(timeline):\n",
      "        listOfReplies = []\n",
      "        for e in timeline:\n",
      "            d = {}\n",
      "            if e['in_reply_to_user_id_str'] != None:               # filter out tweets from deleted users accounts\n",
      "                s = 'via @' + str(e['in_reply_to_screen_name']).lower()    #filter out \"via @XXX\" retweets\n",
      "                if s not in e['text'].lower():                             # which are generated via the reply function\n",
      "                    d['original_user_id'] = e['in_reply_to_user_id_str']\n",
      "                    d['original_screen_name'] = e['in_reply_to_screen_name']\n",
      "                    d['original_status_id'] = e['in_reply_to_status_id_str']\n",
      "                    d['reply_status_id'] = e['id_str']\n",
      "                    d['reply_time'] = e['created_at']\n",
      "                    d['reply_text'] = e['text']\n",
      "                    if d['original_status_id'] != None:\n",
      "                        d['orphan'] = 0\n",
      "                    else:\n",
      "                        d['orphan'] = 1\n",
      "                    listOfReplies.append(d)\n",
      "        return listOfReplies\n",
      "\n",
      "    # 2.\n",
      "    def separateListOfReplies(listOfReplies):        \n",
      "        replies = listOfReplies\n",
      "        repl = replies[:]           # make a copy of replies\n",
      "        LoNone = []                # replies with NoneType-Elements    \n",
      "        LoIDs = []    \n",
      "        for e in repl:\n",
      "            if e['orphan'] == 0:\n",
      "                LoIDs.append(e['original_status_id'])\n",
      "            else:                                         \n",
      "                LoNone.append(e)     # replies with NoneType-Elements\n",
      "                replies.remove(e)    # remove the NoneType-Elements from the list\n",
      "        repl = replies[:]            # re-identify both lists: repl = replies without Nonetypes        \n",
      "        return LoIDs, repl, LoNone\n",
      "\n",
      "    # 3.\n",
      "    def getOriginalTweets(LoIDs):\n",
      "        LoOriginalTweets = []\n",
      "        for e in LoIDs:       \n",
      "            tw = make_twitter_request(twitter_api.statuses.show, _id=e)        # this twitter api request has a rate limit of 180!\n",
      "            LoOriginalTweets.append(tw)                                        #         \n",
      "        #print 'Length of LoOriginalTweets is:', len(LoOriginalTweets)\n",
      "        return LoOriginalTweets\n",
      "\n",
      "    # 4.\n",
      "    def newDict(LoOriginalTweets):\n",
      "        # try to get original text and time of tweet, if tweet ID is not valid, pass\n",
      "        LoDic = []\n",
      "        for i in LoOriginalTweets:        \n",
      "            d = {}\n",
      "            try:          # try to get original text and time of tweet, if tweet ID is not valid, pass\n",
      "                d['original_text'] = i['text']   #.encode('utf-8')\n",
      "                d['original_time'] = i['created_at']\n",
      "                d['original_status_id'] = i['id']\n",
      "                LoDic.append(d)\n",
      "            except:\n",
      "                print 'Trouble with this tweet (It is not included in further examination!):', i\n",
      "                pass \n",
      "        #print len(LoDic)            # T e s t\n",
      "        #print LoDic[0].keys()       # T e s t\n",
      "        return LoDic\n",
      "    \n",
      "    # 5.\n",
      "    def clusterValid(LoDic, repl):\n",
      "        import time\n",
      "        repl = sortLoD(repl, 'original_status_id')     # sort repl    \n",
      "        #print 'len repl', len(repl)                                 # T e s t\n",
      "        \n",
      "        for n in LoDic:\n",
      "            i = bisectInLoD(repl, 'original_status_id', n['original_status_id'])  # search for id in repl            \n",
      "            n.update(repl[i])\n",
      "            repl.pop(i)                            # remove item from list after it's appended to LoDic\n",
      "            if screen_name in n['original_text']:       # test if reply is answer\n",
      "                n['reply_is_answer'] = 1\n",
      "            else:\n",
      "                n['reply_is_answer'] = 0        \n",
      "            \n",
      "            if '?' in n['original_text']:    # check if original tweet was a question (included an '?')\n",
      "                n['original_is_question'] = 1\n",
      "            else:\n",
      "                n['original_is_question'] = 0\n",
      "                \n",
      "            # calculate  reaction time to reply\n",
      "            #calculating Tweets per day and year\n",
      "            t0 = time.mktime(time.strptime(n['original_time'], \"%a %b %d %H:%M:%S +0000 %Y\"))#returns date in seconds (from 1970-01-01)\n",
      "            t1 = time.mktime(time.strptime(n['reply_time'], \"%a %b %d %H:%M:%S +0000 %Y\"))\n",
      "            diff = round(float((t1 - t0))/3600,1) #calculates the difference in hours (3600 sec per hour)\n",
      "            n['hours_to_answer'] = diff            \n",
      "                    \n",
      "            #print len(n.keys())        # T e s t\n",
      "        #print n.keys()                # T e s t\n",
      "        return LoDic, repl\n",
      "    \n",
      "    # 6.    \n",
      "    def clusterNoneTypes(repl):\n",
      "        for n in repl:        \n",
      "            n['original_text'] = '-'                        \n",
      "            n['original_time'] = '-'                 \n",
      "            n['reply_is_answer'] = '-'               \n",
      "            n['hours_to_answer'] = '-'\n",
      "            n['original_is_question'] = '-'\n",
      "            n['orphan'] = 1\n",
      "        return repl\n",
      "\n",
      "    # 7.\n",
      "    def isFollower(repl):    \n",
      "        filenameFLW = screen_name + '_Followers_' + timestamp_Followers + '.csv'\n",
      "        flw = impCSV(filenameFLW)        \n",
      "        flw = sortLoD(flw, 'followers_user_id')    \n",
      "        cluster = ['librarian', 'Bib', 'publisher']\n",
      "        for n in repl:\n",
      "            i = bisectInLoD(flw, 'followers_user_id', n['original_user_id'])\n",
      "            if type(i) == int:\n",
      "                if flw[i]['cluster'] in cluster:                \n",
      "                    n['is_follower'] = 'professional'\n",
      "                else:\n",
      "                    n['is_follower'] = 'nonprof'\n",
      "                if 'local' in flw[i]['followers_location']:\n",
      "                    n['follower_local'] = 1\n",
      "                else:\n",
      "                    n['follower_local'] = 0\n",
      "            else:\n",
      "                n['is_follower'] = 0 \n",
      "                n['follower_local'] = 0\n",
      "        return repl\n",
      "    \n",
      "\n",
      "    \n",
      "    filenameTL = screen_name + '_timeline_' + timestamp_Timeline + '.json'\n",
      "         \n",
      "    tl = readJSON(filenameTL)                                        # 0.  get timeline   \n",
      "    listOfReplies = getReplies(tl)                                   # 1.0  get the replies from TL\n",
      "    if len(listOfReplies) > 0:                                       # 1.1 if there are replies at all  \n",
      "        LoIDs, repl, LoNone = separateListOfReplies(listOfReplies)   # 2.  get list of valid status IDs of original tweets\n",
      "        LoOriginalTweets = getOriginalTweets(LoIDs)                  # 3.  make Twitter API request to get original Tweets\n",
      "                                                                     #     only 180 Tweets per 15 min!!\n",
      "        LoDic = newDict(LoOriginalTweets)                            # 4.  try to get original text and time of tweet\n",
      "        LoDic, repl = clusterValid(LoDic, repl)                      # 5.  cluster the valid tweets\n",
      "        repl += LoNone                                               # 6.0 concatenate both NoneType lists\n",
      "        repl = clusterNoneTypes(repl)                                # 6.1 cluster the NoneType tweets\n",
      "        repl += LoDic                                                # 7.0 concatenate Valid & NoneType lists\n",
      "        repl = isFollower(repl)                                      # 7.1 check if replied to are followers\n",
      "        saveConversationAsJSON(repl, screen_name)                    # 8.  save as json-file\n",
      "    else:                                                            # 9. create LoD for non replying libs\n",
      "        edl = ['hours_to_answer', 'is_follower', 'original_time',\n",
      "               'original_is_question', 'orphan', 'reply_is_answer', \n",
      "               'reply_time', 'follower_local', 'reply_status_id']\n",
      "        repl = []\n",
      "        ed = {}\n",
      "        for e in edl:\n",
      "            ed[e] = '-'\n",
      "        repl.append(ed)\n",
      "    return repl                                                  # 10. return the LoD\n",
      "        \n",
      "    \n",
      "def saveReplyStats(repl,screen_name):    \n",
      "    lod = []    \n",
      "    for e in repl:\n",
      "        d = {}\n",
      "        d['hours_to_answer'] = e['hours_to_answer']\n",
      "        d['is_follower'] = e['is_follower']\n",
      "        d['follower_local'] = e['follower_local']\n",
      "        d['original_is_question'] = e['original_is_question']\n",
      "        d['original_time'] = e['original_time']\n",
      "        d['orphan'] = e['orphan']\n",
      "        d['reply_is_answer'] = e['reply_is_answer']\n",
      "        d['reply_time'] = e['reply_time']\n",
      "        d['reply_status_id'] =  e['reply_status_id']                           \n",
      "        lod.append(d)\n",
      "    exp2CSV(lod, screen_name) \n",
      "   "
     ],
     "language": "python",
     "metadata": {},
     "outputs": [],
     "prompt_number": 25
    },
    {
     "cell_type": "heading",
     "level": 3,
     "metadata": {},
     "source": [
      "4. Reporting Functions"
     ]
    },
    {
     "cell_type": "code",
     "collapsed": false,
     "input": [
      "\n",
      "def reportFollower(rep):\n",
      "    p = 0\n",
      "    n = 0\n",
      "    nf = 0\n",
      "    l = 0\n",
      "    for e in rep:\n",
      "        if e['is_follower'] == 'professional':\n",
      "            p += 1\n",
      "        elif e['is_follower'] == 'nonprof':\n",
      "            n += 1\n",
      "        elif e['is_follower'] == 0:\n",
      "            nf += 1\n",
      "        else:\n",
      "            print 'Take a closer look at', e\n",
      "            print\n",
      "        if e['follower_local'] == 1:\n",
      "            l += 1\n",
      "    print 'From the total of ' + str(len(rep)) + ', the replied to accounts belonged to following groups:'\n",
      "    print p, 'professionals'\n",
      "    print n, 'non professionals'\n",
      "    print nf, 'non followers'\n",
      "    print l, 'of these are locals.'\n",
      "\n",
      "\n",
      "def reactionReport(rep):\n",
      "    antime = 0\n",
      "    orph = 0\n",
      "    quest = 0\n",
      "    ans = 0\n",
      "    \n",
      "    \n",
      "    for e in rep:\n",
      "        # calculate mean of time to answer\n",
      "        if e['orphan'] == 1:\n",
      "            orph += 1\n",
      "        else:\n",
      "            if type(e['hours_to_answer']) == float:\n",
      "                antime += e['hours_to_answer']\n",
      "            \n",
      "            # calculate answers to questions    \n",
      "            if e['original_is_question'] == 1:\n",
      "                quest += 1\n",
      "            if e['reply_is_answer'] == 1:\n",
      "                ans += 1\n",
      "        \n",
      "        \n",
      "    print 'It took about', round(antime/(len(rep) - orph),1), ' hours in average to reply to a tweet.'\n",
      "    print orph, \"of the original tweets were no longer accessible (were deleted)\"\n",
      "    print \"          - and thus couldn't be evaluated.\"  \n",
      "    print \"Of these tweets,\", quest, \"were questions (i.e. a ratio of \", round(float(quest)/(len(rep) - orph),2), \"),\",\n",
      "    print         ans, \"were answers to questions.\"\n",
      "    \n",
      "    \n",
      "    \n"
     ],
     "language": "python",
     "metadata": {},
     "outputs": [],
     "prompt_number": 26
    },
    {
     "cell_type": "heading",
     "level": 3,
     "metadata": {},
     "source": [
      "3. Wrap Up Function"
     ]
    },
    {
     "cell_type": "code",
     "collapsed": false,
     "input": [
      "def getConversations(Twitterfile, timestamp_Timeline, timestamp_Followers):\n",
      "    '''\n",
      "    input: Twitterfile, timestamp_Timeline, timestamp_Followers\n",
      "    output: returns LoD as a csv with keys u'hours_to_answer', u'is_follower', \n",
      "    u'original_is_question', u'original_time',u'orphan', u'reply_is_answer', \n",
      "    u'reply_time', u'follower_local'\n",
      "    '''\n",
      "        \n",
      "    f = impCSV(Twitterfile)\n",
      "    listOfScreenNames = []\n",
      "    for e in f:\n",
      "        listOfScreenNames.append(e['Twitter'])                # get Twitter handel of the library\n",
      "    for sn in listOfScreenNames:\n",
      "        convers = repliedToTweetList(sn, timestamp_Timeline, timestamp_Followers)\n",
      "        saveReplyStats(convers, sn)\n"
     ],
     "language": "python",
     "metadata": {},
     "outputs": [],
     "prompt_number": 27
    },
    {
     "cell_type": "heading",
     "level": 2,
     "metadata": {},
     "source": [
      "2. Function Calls"
     ]
    },
    {
     "cell_type": "code",
     "collapsed": false,
     "input": [
      "getConversations('NatBibTwitter2.csv', '2014-04-07', '2014-04-07')"
     ],
     "language": "python",
     "metadata": {},
     "outputs": [
      {
       "output_type": "stream",
       "stream": "stdout",
       "text": [
        "Conversation archive was saved as bsb_muenchen_Conversation_2014-04-07.json.\n",
        "Conversation statistics was saved as bsb_muenchen_ReplyStats_2014-04-07.csv.\n",
        "Trouble with this tweet (It is not included in further examination!):"
       ]
      },
      {
       "output_type": "stream",
       "stream": "stderr",
       "text": [
        "Encountered 404 Error (Not Found)\n",
        "Encountered 403 Error (Not Authorized)"
       ]
      },
      {
       "output_type": "stream",
       "stream": "stderr",
       "text": [
        "\n",
        "Encountered 403 Error (Not Authorized)"
       ]
      },
      {
       "output_type": "stream",
       "stream": "stderr",
       "text": [
        "\n",
        "Encountered 404 Error (Not Found)"
       ]
      },
      {
       "output_type": "stream",
       "stream": "stderr",
       "text": [
        "\n",
        "Encountered 404 Error (Not Found)"
       ]
      },
      {
       "output_type": "stream",
       "stream": "stderr",
       "text": [
        "\n",
        "Encountered 404 Error (Not Found)"
       ]
      },
      {
       "output_type": "stream",
       "stream": "stdout",
       "text": [
        " None\n",
        "Conversation archive was saved as dnb_aktuelles_Conversation_2014-04-07.json.\n",
        "Conversation statistics was saved as dnb_aktuelles_ReplyStats_2014-04-07.csv.\n",
        "Trouble with this tweet (It is not included in further examination!):"
       ]
      },
      {
       "output_type": "stream",
       "stream": "stdout",
       "text": [
        " None\n",
        "Trouble with this tweet (It is not included in further examination!): None\n",
        "Trouble with this tweet (It is not included in further examination!): None\n",
        "Trouble with this tweet (It is not included in further examination!): None\n",
        "Trouble with this tweet (It is not included in further examination!): None\n",
        "Conversation archive was saved as sbb_news_Conversation_2014-04-07.json.\n",
        "Conversation statistics was saved as sbb_news_ReplyStats_2014-04-07.csv.\n"
       ]
      },
      {
       "output_type": "stream",
       "stream": "stderr",
       "text": [
        "\n"
       ]
      }
     ],
     "prompt_number": 7
    },
    {
     "cell_type": "code",
     "collapsed": false,
     "input": [
      "getConversations('UniBibTwitter.csv', '2014-04-07', '2014-04-06')"
     ],
     "language": "python",
     "metadata": {},
     "outputs": [
      {
       "output_type": "stream",
       "stream": "stdout",
       "text": [
        "Conversation statistics was saved as ub_oldenburg_ReplyStats_2014-04-08.csv.\n",
        "Conversation archive was saved as hsubib_Conversation_2014-04-08.json."
       ]
      },
      {
       "output_type": "stream",
       "stream": "stderr",
       "text": [
        "Encountered 403 Error (Not Authorized)\n",
        "Encountered 404 Error (Not Found)"
       ]
      },
      {
       "output_type": "stream",
       "stream": "stderr",
       "text": [
        "\n",
        "Encountered 403 Error (Not Authorized)"
       ]
      },
      {
       "output_type": "stream",
       "stream": "stderr",
       "text": [
        "\n",
        "Encountered 404 Error (Not Found)"
       ]
      },
      {
       "output_type": "stream",
       "stream": "stdout",
       "text": [
        "\n",
        "Conversation statistics was saved as hsubib_ReplyStats_2014-04-08.csv.\n",
        "Trouble with this tweet (It is not included in further examination!):"
       ]
      },
      {
       "output_type": "stream",
       "stream": "stdout",
       "text": [
        " None\n",
        "Trouble with this tweet (It is not included in further examination!): None\n",
        "Trouble with this tweet (It is not included in further examination!): None\n",
        "Trouble with this tweet (It is not included in further examination!): None\n",
        "Conversation archive was saved as ubhumboldtuni_Conversation_2014-04-08.json.\n",
        "Conversation statistics was saved as ubhumboldtuni_ReplyStats_2014-04-08.csv.\n",
        "Conversation statistics was saved as kitbibliothek_ReplyStats_2014-04-08.csv."
       ]
      },
      {
       "output_type": "stream",
       "stream": "stdout",
       "text": [
        "\n",
        "Conversation archive was saved as kizuulm_Conversation_2014-04-08.json."
       ]
      },
      {
       "output_type": "stream",
       "stream": "stderr",
       "text": [
        "\n",
        "Encountered 404 Error (Not Found)"
       ]
      },
      {
       "output_type": "stream",
       "stream": "stderr",
       "text": [
        "\n",
        "Encountered 404 Error (Not Found)"
       ]
      },
      {
       "output_type": "stream",
       "stream": "stdout",
       "text": [
        "\n",
        "Conversation statistics was saved as kizuulm_ReplyStats_2014-04-08.csv.\n",
        "Trouble with this tweet (It is not included in further examination!):"
       ]
      },
      {
       "output_type": "stream",
       "stream": "stderr",
       "text": [
        "\n",
        "Encountered 404 Error (Not Found)"
       ]
      },
      {
       "output_type": "stream",
       "stream": "stderr",
       "text": [
        "\n",
        "Encountered 404 Error (Not Found)"
       ]
      },
      {
       "output_type": "stream",
       "stream": "stderr",
       "text": [
        "\n",
        "Encountered 404 Error (Not Found)"
       ]
      },
      {
       "output_type": "stream",
       "stream": "stderr",
       "text": [
        "\n",
        "Encountered 403 Error (Not Authorized)"
       ]
      },
      {
       "output_type": "stream",
       "stream": "stdout",
       "text": [
        " None\n",
        "Trouble with this tweet (It is not included in further examination!): None\n",
        "Conversation archive was saved as subugoe_Conversation_2014-04-08.json.\n",
        "Conversation statistics was saved as subugoe_ReplyStats_2014-04-08.csv.\n",
        "Trouble with this tweet (It is not included in further examination!):"
       ]
      },
      {
       "output_type": "stream",
       "stream": "stderr",
       "text": [
        "\n",
        "Encountered 429 Error (Rate Limit Exceeded)"
       ]
      },
      {
       "output_type": "stream",
       "stream": "stderr",
       "text": [
        "\n",
        "Retrying in 15 minutes...ZzZ...\n"
       ]
      },
      {
       "output_type": "stream",
       "stream": "stderr",
       "text": [
        "...ZzZ...Awake now and trying again.\n",
        "Encountered 404 Error (Not Found)"
       ]
      },
      {
       "output_type": "stream",
       "stream": "stderr",
       "text": [
        "\n",
        "Encountered 404 Error (Not Found)"
       ]
      },
      {
       "output_type": "stream",
       "stream": "stderr",
       "text": [
        "\n",
        "Encountered 404 Error (Not Found)"
       ]
      },
      {
       "output_type": "stream",
       "stream": "stderr",
       "text": [
        "\n",
        "Encountered 404 Error (Not Found)"
       ]
      },
      {
       "output_type": "stream",
       "stream": "stderr",
       "text": [
        "\n",
        "Encountered 404 Error (Not Found)"
       ]
      },
      {
       "output_type": "stream",
       "stream": "stderr",
       "text": [
        "\n",
        "Encountered 403 Error (Not Authorized)"
       ]
      },
      {
       "output_type": "stream",
       "stream": "stderr",
       "text": [
        "\n",
        "Encountered 403 Error (Not Authorized)"
       ]
      },
      {
       "output_type": "stream",
       "stream": "stderr",
       "text": [
        "\n",
        "Encountered 404 Error (Not Found)"
       ]
      },
      {
       "output_type": "stream",
       "stream": "stderr",
       "text": [
        "\n",
        "Encountered 429 Error (Rate Limit Exceeded)"
       ]
      },
      {
       "output_type": "stream",
       "stream": "stderr",
       "text": [
        "\n",
        "Retrying in 15 minutes...ZzZ...\n"
       ]
      },
      {
       "output_type": "stream",
       "stream": "stderr",
       "text": [
        "...ZzZ...Awake now and trying again.\n",
        "Encountered 404 Error (Not Found)"
       ]
      },
      {
       "output_type": "stream",
       "stream": "stderr",
       "text": [
        "\n",
        "Encountered 404 Error (Not Found)"
       ]
      },
      {
       "output_type": "stream",
       "stream": "stderr",
       "text": [
        "\n",
        "Encountered 404 Error (Not Found)"
       ]
      },
      {
       "output_type": "stream",
       "stream": "stderr",
       "text": [
        "\n",
        "Encountered 404 Error (Not Found)"
       ]
      },
      {
       "output_type": "stream",
       "stream": "stderr",
       "text": [
        "\n",
        "Encountered 404 Error (Not Found)"
       ]
      },
      {
       "output_type": "stream",
       "stream": "stderr",
       "text": [
        "\n",
        "Encountered 404 Error (Not Found)"
       ]
      },
      {
       "output_type": "stream",
       "stream": "stdout",
       "text": [
        " None\n",
        "Trouble with this tweet (It is not included in further examination!): None\n",
        "Trouble with this tweet (It is not included in further examination!): None\n",
        "Trouble with this tweet (It is not included in further examination!): None\n",
        "Conversation archive was saved as ubbochum_Conversation_2014-04-08.json.\n",
        "Conversation statistics was saved as ubbochum_ReplyStats_2014-04-08.csv.\n",
        "Trouble with this tweet (It is not included in further examination!):"
       ]
      },
      {
       "output_type": "stream",
       "stream": "stdout",
       "text": [
        " None\n",
        "Trouble with this tweet (It is not included in further examination!): None\n",
        "Trouble with this tweet (It is not included in further examination!): None\n",
        "Trouble with this tweet (It is not included in further examination!): None\n",
        "Trouble with this tweet (It is not included in further examination!): None\n",
        "Trouble with this tweet (It is not included in further examination!): None\n",
        "Trouble with this tweet (It is not included in further examination!): None\n",
        "Trouble with this tweet (It is not included in further examination!): None\n",
        "Trouble with this tweet (It is not included in further examination!): None\n",
        "Trouble with this tweet (It is not included in further examination!): None\n",
        "Trouble with this tweet (It is not included in further examination!): None\n",
        "Trouble with this tweet (It is not included in further examination!): None\n",
        "Trouble with this tweet (It is not included in further examination!): None\n",
        "Trouble with this tweet (It is not included in further examination!): None\n",
        "Conversation archive was saved as slubdresden_Conversation_2014-04-08.json."
       ]
      },
      {
       "output_type": "stream",
       "stream": "stderr",
       "text": [
        "\n",
        "Encountered 429 Error (Rate Limit Exceeded)"
       ]
      },
      {
       "output_type": "stream",
       "stream": "stderr",
       "text": [
        "\n",
        "Retrying in 15 minutes...ZzZ...\n"
       ]
      },
      {
       "output_type": "stream",
       "stream": "stderr",
       "text": [
        "...ZzZ...Awake now and trying again.\n",
        "Encountered 404 Error (Not Found)"
       ]
      },
      {
       "output_type": "stream",
       "stream": "stderr",
       "text": [
        "\n",
        "Encountered 404 Error (Not Found)"
       ]
      },
      {
       "output_type": "stream",
       "stream": "stderr",
       "text": [
        "\n",
        "Encountered 404 Error (Not Found)"
       ]
      },
      {
       "output_type": "stream",
       "stream": "stderr",
       "text": [
        "\n",
        "Encountered 403 Error (Not Authorized)"
       ]
      },
      {
       "output_type": "stream",
       "stream": "stderr",
       "text": [
        "\n",
        "Encountered 404 Error (Not Found)"
       ]
      },
      {
       "output_type": "stream",
       "stream": "stderr",
       "text": [
        "\n",
        "Encountered 403 Error (Not Authorized)"
       ]
      },
      {
       "output_type": "stream",
       "stream": "stderr",
       "text": [
        "\n",
        "Encountered 429 Error (Rate Limit Exceeded)"
       ]
      },
      {
       "output_type": "stream",
       "stream": "stderr",
       "text": [
        "\n",
        "Retrying in 15 minutes...ZzZ...\n"
       ]
      },
      {
       "output_type": "stream",
       "stream": "stderr",
       "text": [
        "...ZzZ...Awake now and trying again.\n",
        "Encountered 404 Error (Not Found)"
       ]
      },
      {
       "output_type": "stream",
       "stream": "stderr",
       "text": [
        "\n",
        "Encountered 403 Error (Not Authorized)"
       ]
      },
      {
       "output_type": "stream",
       "stream": "stderr",
       "text": [
        "\n",
        "Encountered 403 Error (Not Authorized)"
       ]
      },
      {
       "output_type": "stream",
       "stream": "stderr",
       "text": [
        "\n",
        "Encountered 403 Error (Not Authorized)"
       ]
      },
      {
       "output_type": "stream",
       "stream": "stderr",
       "text": [
        "\n",
        "Encountered 403 Error (Not Authorized)"
       ]
      },
      {
       "output_type": "stream",
       "stream": "stderr",
       "text": [
        "\n",
        "Encountered 403 Error (Not Authorized)"
       ]
      },
      {
       "output_type": "stream",
       "stream": "stderr",
       "text": [
        "\n",
        "Encountered 403 Error (Not Authorized)"
       ]
      },
      {
       "output_type": "stream",
       "stream": "stderr",
       "text": [
        "\n",
        "Encountered 403 Error (Not Authorized)"
       ]
      },
      {
       "output_type": "stream",
       "stream": "stderr",
       "text": [
        "\n",
        "Encountered 403 Error (Not Authorized)"
       ]
      },
      {
       "output_type": "stream",
       "stream": "stderr",
       "text": [
        "\n",
        "Encountered 403 Error (Not Authorized)"
       ]
      },
      {
       "output_type": "stream",
       "stream": "stderr",
       "text": [
        "\n",
        "Encountered 403 Error (Not Authorized)"
       ]
      },
      {
       "output_type": "stream",
       "stream": "stderr",
       "text": [
        "\n",
        "Encountered 403 Error (Not Authorized)"
       ]
      },
      {
       "output_type": "stream",
       "stream": "stderr",
       "text": [
        "\n",
        "Encountered 403 Error (Not Authorized)"
       ]
      },
      {
       "output_type": "stream",
       "stream": "stderr",
       "text": [
        "\n",
        "Encountered 403 Error (Not Authorized)"
       ]
      },
      {
       "output_type": "stream",
       "stream": "stderr",
       "text": [
        "\n",
        "Encountered 403 Error (Not Authorized)"
       ]
      },
      {
       "output_type": "stream",
       "stream": "stderr",
       "text": [
        "\n",
        "Encountered 403 Error (Not Authorized)"
       ]
      },
      {
       "output_type": "stream",
       "stream": "stdout",
       "text": [
        "\n",
        "Conversation statistics was saved as slubdresden_ReplyStats_2014-04-08.csv.\n",
        "Trouble with this tweet (It is not included in further examination!):"
       ]
      },
      {
       "output_type": "stream",
       "stream": "stdout",
       "text": [
        " None\n",
        "Trouble with this tweet (It is not included in further examination!): None\n",
        "Trouble with this tweet (It is not included in further examination!): None\n",
        "Trouble with this tweet (It is not included in further examination!): None\n",
        "Trouble with this tweet (It is not included in further examination!): None\n",
        "Trouble with this tweet (It is not included in further examination!): None\n",
        "Trouble with this tweet (It is not included in further examination!): None\n",
        "Trouble with this tweet (It is not included in further examination!): None\n",
        "Trouble with this tweet (It is not included in further examination!): None\n",
        "Trouble with this tweet (It is not included in further examination!): None\n",
        "Trouble with this tweet (It is not included in further examination!): None\n",
        "Trouble with this tweet (It is not included in further examination!): None\n",
        "Trouble with this tweet (It is not included in further examination!): None\n",
        "Trouble with this tweet (It is not included in further examination!): None\n",
        "Trouble with this tweet (It is not included in further examination!): None\n",
        "Trouble with this tweet (It is not included in further examination!): None\n",
        "Trouble with this tweet (It is not included in further examination!): None\n",
        "Trouble with this tweet (It is not included in further examination!): None\n",
        "Trouble with this tweet (It is not included in further examination!): None\n",
        "Trouble with this tweet (It is not included in further examination!): None\n",
        "Trouble with this tweet (It is not included in further examination!): None\n",
        "Trouble with this tweet (It is not included in further examination!): None\n",
        "Conversation archive was saved as elibbremen_Conversation_2014-04-08.json."
       ]
      },
      {
       "output_type": "stream",
       "stream": "stderr",
       "text": [
        "\n",
        "Encountered 403 Error (Not Authorized)"
       ]
      },
      {
       "output_type": "stream",
       "stream": "stderr",
       "text": [
        "\n",
        "Encountered 403 Error (Not Authorized)"
       ]
      },
      {
       "output_type": "stream",
       "stream": "stderr",
       "text": [
        "\n",
        "Encountered 429 Error (Rate Limit Exceeded)"
       ]
      },
      {
       "output_type": "stream",
       "stream": "stderr",
       "text": [
        "\n",
        "Retrying in 15 minutes...ZzZ...\n"
       ]
      },
      {
       "output_type": "stream",
       "stream": "stderr",
       "text": [
        "...ZzZ...Awake now and trying again.\n",
        "Encountered 403 Error (Not Authorized)"
       ]
      },
      {
       "output_type": "stream",
       "stream": "stderr",
       "text": [
        "\n",
        "Encountered 403 Error (Not Authorized)"
       ]
      },
      {
       "output_type": "stream",
       "stream": "stderr",
       "text": [
        "\n",
        "Encountered 403 Error (Not Authorized)"
       ]
      },
      {
       "output_type": "stream",
       "stream": "stderr",
       "text": [
        "\n",
        "Encountered 403 Error (Not Authorized)"
       ]
      },
      {
       "output_type": "stream",
       "stream": "stderr",
       "text": [
        "\n",
        "Encountered 403 Error (Not Authorized)"
       ]
      },
      {
       "output_type": "stream",
       "stream": "stderr",
       "text": [
        "\n",
        "Encountered 404 Error (Not Found)"
       ]
      },
      {
       "output_type": "stream",
       "stream": "stderr",
       "text": [
        "\n",
        "Encountered 404 Error (Not Found)"
       ]
      },
      {
       "output_type": "stream",
       "stream": "stderr",
       "text": [
        "\n",
        "Encountered 404 Error (Not Found)"
       ]
      },
      {
       "output_type": "stream",
       "stream": "stderr",
       "text": [
        "\n",
        "Encountered 403 Error (Not Authorized)"
       ]
      },
      {
       "output_type": "stream",
       "stream": "stderr",
       "text": [
        "\n",
        "Encountered 403 Error (Not Authorized)"
       ]
      },
      {
       "output_type": "stream",
       "stream": "stderr",
       "text": [
        "\n",
        "Encountered 403 Error (Not Authorized)"
       ]
      },
      {
       "output_type": "stream",
       "stream": "stderr",
       "text": [
        "\n",
        "Encountered 403 Error (Not Authorized)"
       ]
      },
      {
       "output_type": "stream",
       "stream": "stderr",
       "text": [
        "\n",
        "Encountered 403 Error (Not Authorized)"
       ]
      },
      {
       "output_type": "stream",
       "stream": "stderr",
       "text": [
        "\n",
        "Encountered 403 Error (Not Authorized)"
       ]
      },
      {
       "output_type": "stream",
       "stream": "stdout",
       "text": [
        "\n",
        "Conversation statistics was saved as elibbremen_ReplyStats_2014-04-08.csv.\n",
        "Trouble with this tweet (It is not included in further examination!):"
       ]
      },
      {
       "output_type": "stream",
       "stream": "stdout",
       "text": [
        " None\n",
        "Trouble with this tweet (It is not included in further examination!): None\n",
        "Trouble with this tweet (It is not included in further examination!): None\n",
        "Trouble with this tweet (It is not included in further examination!): None\n",
        "Trouble with this tweet (It is not included in further examination!): None\n",
        "Trouble with this tweet (It is not included in further examination!): None\n",
        "Trouble with this tweet (It is not included in further examination!): None\n",
        "Trouble with this tweet (It is not included in further examination!): None\n",
        "Trouble with this tweet (It is not included in further examination!): None\n",
        "Trouble with this tweet (It is not included in further examination!): None\n",
        "Trouble with this tweet (It is not included in further examination!): None\n",
        "Trouble with this tweet (It is not included in further examination!): None\n",
        "Trouble with this tweet (It is not included in further examination!): None\n",
        "Trouble with this tweet (It is not included in further examination!): None\n",
        "Trouble with this tweet (It is not included in further examination!): None\n",
        "Trouble with this tweet (It is not included in further examination!): None\n",
        "Conversation archive was saved as stabihh_Conversation_2014-04-08.json."
       ]
      },
      {
       "output_type": "stream",
       "stream": "stdout",
       "text": [
        "\n",
        "Conversation statistics was saved as stabihh_ReplyStats_2014-04-08.csv.\n",
        "Conversation archive was saved as ub_tu_berlin_Conversation_2014-04-08.json."
       ]
      },
      {
       "output_type": "stream",
       "stream": "stdout",
       "text": [
        "\n",
        "Conversation statistics was saved as ub_tu_berlin_ReplyStats_2014-04-08.csv.\n",
        "Conversation archive was saved as tubhh_Conversation_2014-04-08.json."
       ]
      },
      {
       "output_type": "stream",
       "stream": "stderr",
       "text": [
        "\n",
        "Encountered 429 Error (Rate Limit Exceeded)"
       ]
      },
      {
       "output_type": "stream",
       "stream": "stderr",
       "text": [
        "\n",
        "Retrying in 15 minutes...ZzZ...\n"
       ]
      },
      {
       "output_type": "stream",
       "stream": "stderr",
       "text": [
        "...ZzZ...Awake now and trying again.\n",
        "Encountered 404 Error (Not Found)"
       ]
      },
      {
       "output_type": "stream",
       "stream": "stderr",
       "text": [
        "\n",
        "Encountered 404 Error (Not Found)"
       ]
      },
      {
       "output_type": "stream",
       "stream": "stderr",
       "text": [
        "\n",
        "Encountered 404 Error (Not Found)"
       ]
      },
      {
       "output_type": "stream",
       "stream": "stderr",
       "text": [
        "\n",
        "Encountered 404 Error (Not Found)"
       ]
      },
      {
       "output_type": "stream",
       "stream": "stderr",
       "text": [
        "\n",
        "Encountered 404 Error (Not Found)"
       ]
      },
      {
       "output_type": "stream",
       "stream": "stderr",
       "text": [
        "\n",
        "Encountered 404 Error (Not Found)"
       ]
      },
      {
       "output_type": "stream",
       "stream": "stderr",
       "text": [
        "\n",
        "Encountered 404 Error (Not Found)"
       ]
      },
      {
       "output_type": "stream",
       "stream": "stdout",
       "text": [
        "\n",
        "Conversation statistics was saved as tubhh_ReplyStats_2014-04-08.csv.\n",
        "Trouble with this tweet (It is not included in further examination!):"
       ]
      },
      {
       "output_type": "stream",
       "stream": "stdout",
       "text": [
        " None\n",
        "Trouble with this tweet (It is not included in further examination!): None\n",
        "Trouble with this tweet (It is not included in further examination!): None\n",
        "Trouble with this tweet (It is not included in further examination!): None\n",
        "Trouble with this tweet (It is not included in further examination!): None\n",
        "Trouble with this tweet (It is not included in further examination!): None\n",
        "Trouble with this tweet (It is not included in further examination!): None\n",
        "Conversation archive was saved as ulbbonn_Conversation_2014-04-08.json.\n",
        "Conversation statistics was saved as ulbbonn_ReplyStats_2014-04-08.csv.\n",
        "Conversation statistics was saved as ubbayreuth_info_ReplyStats_2014-04-08.csv.\n",
        "Conversation archive was saved as ub_bi_Conversation_2014-04-08.json."
       ]
      },
      {
       "output_type": "stream",
       "stream": "stdout",
       "text": [
        "\n",
        "Conversation statistics was saved as ub_bi_ReplyStats_2014-04-08.csv.\n",
        "Conversation statistics was saved as unibib_bs_ReplyStats_2014-04-08.csv.\n",
        "Conversation statistics was saved as ub_wue_ReplyStats_2014-04-08.csv.\n",
        "Conversation archive was saved as unibib_Conversation_2014-04-08.json."
       ]
      },
      {
       "output_type": "stream",
       "stream": "stderr",
       "text": [
        "\n",
        "Encountered 404 Error (Not Found)"
       ]
      },
      {
       "output_type": "stream",
       "stream": "stdout",
       "text": [
        "\n",
        "Conversation statistics was saved as unibib_ReplyStats_2014-04-08.csv.\n",
        "Trouble with this tweet (It is not included in further examination!):"
       ]
      },
      {
       "output_type": "stream",
       "stream": "stdout",
       "text": [
        " None\n",
        "Conversation archive was saved as ubdue_Conversation_2014-04-08.json.\n",
        "Conversation statistics was saved as ubdue_ReplyStats_2014-04-08.csv.\n",
        "Conversation archive was saved as ub_fau_Conversation_2014-04-08.json."
       ]
      },
      {
       "output_type": "stream",
       "stream": "stderr",
       "text": [
        "\n",
        "Encountered 403 Error (Not Authorized)"
       ]
      },
      {
       "output_type": "stream",
       "stream": "stderr",
       "text": [
        "\n",
        "Encountered 403 Error (Not Authorized)"
       ]
      },
      {
       "output_type": "stream",
       "stream": "stderr",
       "text": [
        "\n",
        "Encountered 403 Error (Not Authorized)"
       ]
      },
      {
       "output_type": "stream",
       "stream": "stderr",
       "text": [
        "\n",
        "Encountered 404 Error (Not Found)"
       ]
      },
      {
       "output_type": "stream",
       "stream": "stderr",
       "text": [
        "\n",
        "Encountered 404 Error (Not Found)"
       ]
      },
      {
       "output_type": "stream",
       "stream": "stderr",
       "text": [
        "\n",
        "Encountered 403 Error (Not Authorized)"
       ]
      },
      {
       "output_type": "stream",
       "stream": "stderr",
       "text": [
        "\n",
        "Encountered 429 Error (Rate Limit Exceeded)"
       ]
      },
      {
       "output_type": "stream",
       "stream": "stderr",
       "text": [
        "\n",
        "Retrying in 15 minutes...ZzZ...\n"
       ]
      },
      {
       "output_type": "stream",
       "stream": "stderr",
       "text": [
        "...ZzZ...Awake now and trying again.\n",
        "Encountered 404 Error (Not Found)"
       ]
      },
      {
       "output_type": "stream",
       "stream": "stdout",
       "text": [
        "\n",
        "Conversation statistics was saved as ub_fau_ReplyStats_2014-04-08.csv.\n",
        "Trouble with this tweet (It is not included in further examination!):"
       ]
      },
      {
       "output_type": "stream",
       "stream": "stdout",
       "text": [
        " None\n",
        "Trouble with this tweet (It is not included in further examination!): None\n",
        "Trouble with this tweet (It is not included in further examination!): None\n",
        "Trouble with this tweet (It is not included in further examination!): None\n",
        "Trouble with this tweet (It is not included in further examination!): None\n",
        "Trouble with this tweet (It is not included in further examination!): None\n",
        "Trouble with this tweet (It is not included in further examination!): None\n",
        "Conversation archive was saved as tibub_Conversation_2014-04-08.json."
       ]
      },
      {
       "output_type": "stream",
       "stream": "stdout",
       "text": [
        "\n",
        "Conversation statistics was saved as tibub_ReplyStats_2014-04-08.csv.\n",
        "Conversation archive was saved as ubkassel_Conversation_2014-04-08.json."
       ]
      },
      {
       "output_type": "stream",
       "stream": "stderr",
       "text": [
        "\n",
        "Encountered 403 Error (Not Authorized)"
       ]
      },
      {
       "output_type": "stream",
       "stream": "stdout",
       "text": [
        "\n",
        "Conversation statistics was saved as ubkassel_ReplyStats_2014-04-08.csv.\n",
        "Trouble with this tweet (It is not included in further examination!):"
       ]
      },
      {
       "output_type": "stream",
       "stream": "stderr",
       "text": [
        "\n",
        "Encountered 403 Error (Not Authorized)"
       ]
      },
      {
       "output_type": "stream",
       "stream": "stderr",
       "text": [
        "\n",
        "Encountered 429 Error (Rate Limit Exceeded)"
       ]
      },
      {
       "output_type": "stream",
       "stream": "stderr",
       "text": [
        "\n",
        "Retrying in 15 minutes...ZzZ...\n"
       ]
      },
      {
       "output_type": "stream",
       "stream": "stderr",
       "text": [
        "...ZzZ...Awake now and trying again.\n",
        "Encountered 404 Error (Not Found)"
       ]
      },
      {
       "output_type": "stream",
       "stream": "stderr",
       "text": [
        "\n",
        "Encountered 403 Error (Not Authorized)"
       ]
      },
      {
       "output_type": "stream",
       "stream": "stderr",
       "text": [
        "\n",
        "Encountered 404 Error (Not Found)"
       ]
      },
      {
       "output_type": "stream",
       "stream": "stderr",
       "text": [
        "\n",
        "Encountered 404 Error (Not Found)"
       ]
      },
      {
       "output_type": "stream",
       "stream": "stderr",
       "text": [
        "\n",
        "Encountered 404 Error (Not Found)"
       ]
      },
      {
       "output_type": "stream",
       "stream": "stderr",
       "text": [
        "\n",
        "Encountered 429 Error (Rate Limit Exceeded)"
       ]
      },
      {
       "output_type": "stream",
       "stream": "stderr",
       "text": [
        "\n",
        "Retrying in 15 minutes...ZzZ...\n"
       ]
      },
      {
       "output_type": "stream",
       "stream": "stderr",
       "text": [
        "...ZzZ...Awake now and trying again.\n",
        "Encountered 404 Error (Not Found)"
       ]
      },
      {
       "output_type": "stream",
       "stream": "stderr",
       "text": [
        "\n",
        "Encountered 404 Error (Not Found)"
       ]
      },
      {
       "output_type": "stream",
       "stream": "stdout",
       "text": [
        " None\n",
        "Conversation archive was saved as ubleipzig_Conversation_2014-04-08.json.\n",
        "Conversation statistics was saved as ubleipzig_ReplyStats_2014-04-08.csv.\n",
        "Trouble with this tweet (It is not included in further examination!):"
       ]
      },
      {
       "output_type": "stream",
       "stream": "stdout",
       "text": [
        " None\n",
        "Trouble with this tweet (It is not included in further examination!): None\n",
        "Trouble with this tweet (It is not included in further examination!): None\n",
        "Trouble with this tweet (It is not included in further examination!): None\n",
        "Trouble with this tweet (It is not included in further examination!): None\n",
        "Trouble with this tweet (It is not included in further examination!): None\n",
        "Trouble with this tweet (It is not included in further examination!): None\n",
        "Trouble with this tweet (It is not included in further examination!): None\n",
        "Conversation archive was saved as ubmainz_Conversation_2014-04-08.json."
       ]
      },
      {
       "output_type": "stream",
       "stream": "stdout",
       "text": [
        "\n",
        "Conversation statistics was saved as ubmainz_ReplyStats_2014-04-08.csv.\n",
        "Conversation archive was saved as unibib_mr_Conversation_2014-04-08.json."
       ]
      },
      {
       "output_type": "stream",
       "stream": "stderr",
       "text": [
        "\n",
        "Encountered 429 Error (Rate Limit Exceeded)"
       ]
      },
      {
       "output_type": "stream",
       "stream": "stderr",
       "text": [
        "\n",
        "Retrying in 15 minutes...ZzZ...\n"
       ]
      },
      {
       "output_type": "stream",
       "stream": "stderr",
       "text": [
        "...ZzZ...Awake now and trying again.\n",
        "Encountered 403 Error (Not Authorized)"
       ]
      },
      {
       "output_type": "stream",
       "stream": "stdout",
       "text": [
        "\n",
        "Conversation statistics was saved as unibib_mr_ReplyStats_2014-04-08.csv.\n",
        "Trouble with this tweet (It is not included in further examination!):"
       ]
      },
      {
       "output_type": "stream",
       "stream": "stdout",
       "text": [
        " None\n",
        "Conversation archive was saved as ubreg_Conversation_2014-04-08.json.\n",
        "Conversation statistics was saved as ubreg_ReplyStats_2014-04-08.csv.\n",
        "Conversation statistics was saved as zbsport_ReplyStats_2014-04-08.csv.\n"
       ]
      },
      {
       "output_type": "stream",
       "stream": "stderr",
       "text": [
        "\n"
       ]
      }
     ],
     "prompt_number": 13
    },
    {
     "cell_type": "code",
     "collapsed": false,
     "input": [
      "getConversations('OeBibTwitter.csv', '2014-04-07', '2014-04-06')"
     ],
     "language": "python",
     "metadata": {},
     "outputs": [
      {
       "output_type": "stream",
       "stream": "stderr",
       "text": [
        "Encountered 404 Error (Not Found)\n",
        "Encountered 404 Error (Not Found)"
       ]
      },
      {
       "output_type": "stream",
       "stream": "stderr",
       "text": [
        "\n",
        "Encountered 429 Error (Rate Limit Exceeded)"
       ]
      },
      {
       "output_type": "stream",
       "stream": "stderr",
       "text": [
        "\n",
        "Retrying in 15 minutes...ZzZ...\n"
       ]
      },
      {
       "output_type": "stream",
       "stream": "stderr",
       "text": [
        "...ZzZ...Awake now and trying again.\n",
        "Encountered 404 Error (Not Found)"
       ]
      },
      {
       "output_type": "stream",
       "stream": "stderr",
       "text": [
        "\n",
        "Encountered 404 Error (Not Found)"
       ]
      },
      {
       "output_type": "stream",
       "stream": "stderr",
       "text": [
        "\n",
        "Encountered 404 Error (Not Found)"
       ]
      },
      {
       "output_type": "stream",
       "stream": "stderr",
       "text": [
        "\n",
        "Encountered 429 Error (Rate Limit Exceeded)"
       ]
      },
      {
       "output_type": "stream",
       "stream": "stderr",
       "text": [
        "\n",
        "Retrying in 15 minutes...ZzZ...\n"
       ]
      },
      {
       "output_type": "stream",
       "stream": "stderr",
       "text": [
        "...ZzZ...Awake now and trying again.\n",
        "Encountered 404 Error (Not Found)"
       ]
      },
      {
       "output_type": "stream",
       "stream": "stderr",
       "text": [
        "\n",
        "Encountered 404 Error (Not Found)"
       ]
      },
      {
       "output_type": "stream",
       "stream": "stderr",
       "text": [
        "\n",
        "Encountered 404 Error (Not Found)"
       ]
      },
      {
       "output_type": "stream",
       "stream": "stderr",
       "text": [
        "\n",
        "Encountered 404 Error (Not Found)"
       ]
      },
      {
       "output_type": "stream",
       "stream": "stderr",
       "text": [
        "\n",
        "Encountered 404 Error (Not Found)"
       ]
      },
      {
       "output_type": "stream",
       "stream": "stderr",
       "text": [
        "\n",
        "Encountered 404 Error (Not Found)"
       ]
      },
      {
       "output_type": "stream",
       "stream": "stderr",
       "text": [
        "\n",
        "Encountered 404 Error (Not Found)"
       ]
      },
      {
       "output_type": "stream",
       "stream": "stderr",
       "text": [
        "\n",
        "Encountered 404 Error (Not Found)"
       ]
      },
      {
       "output_type": "stream",
       "stream": "stderr",
       "text": [
        "\n",
        "Encountered 429 Error (Rate Limit Exceeded)"
       ]
      },
      {
       "output_type": "stream",
       "stream": "stderr",
       "text": [
        "\n",
        "Retrying in 15 minutes...ZzZ...\n"
       ]
      },
      {
       "output_type": "stream",
       "stream": "stderr",
       "text": [
        "...ZzZ...Awake now and trying again.\n",
        "Encountered 404 Error (Not Found)"
       ]
      },
      {
       "output_type": "stream",
       "stream": "stderr",
       "text": [
        "\n",
        "Encountered 404 Error (Not Found)"
       ]
      },
      {
       "output_type": "stream",
       "stream": "stderr",
       "text": [
        "\n",
        "Encountered 429 Error (Rate Limit Exceeded)"
       ]
      },
      {
       "output_type": "stream",
       "stream": "stderr",
       "text": [
        "\n",
        "Retrying in 15 minutes...ZzZ...\n"
       ]
      },
      {
       "output_type": "stream",
       "stream": "stderr",
       "text": [
        "...ZzZ...Awake now and trying again.\n",
        "Encountered 404 Error (Not Found)"
       ]
      },
      {
       "output_type": "stream",
       "stream": "stdout",
       "text": [
        "Trouble with this tweet (It is not included in further examination!): None\n",
        "Trouble with this tweet (It is not included in further examination!): None\n",
        "Trouble with this tweet (It is not included in further examination!): None\n",
        "Trouble with this tweet (It is not included in further examination!): None\n",
        "Trouble with this tweet (It is not included in further examination!): None\n",
        "Trouble with this tweet (It is not included in further examination!): None\n",
        "Trouble with this tweet (It is not included in further examination!): None\n",
        "Trouble with this tweet (It is not included in further examination!): None\n",
        "Trouble with this tweet (It is not included in further examination!): None\n",
        "Trouble with this tweet (It is not included in further examination!): None\n",
        "Trouble with this tweet (It is not included in further examination!): None\n",
        "Trouble with this tweet (It is not included in further examination!): None\n",
        "Trouble with this tweet (It is not included in further examination!): None\n",
        "Trouble with this tweet (It is not included in further examination!): None\n",
        "Trouble with this tweet (It is not included in further examination!): None\n",
        "Trouble with this tweet (It is not included in further examination!): None\n",
        "Conversation archive was saved as stabi_erlangen_Conversation_2014-04-09.json."
       ]
      },
      {
       "output_type": "stream",
       "stream": "stdout",
       "text": [
        "\n",
        "Conversation statistics was saved as stabi_erlangen_ReplyStats_2014-04-09.csv."
       ]
      },
      {
       "output_type": "stream",
       "stream": "stdout",
       "text": [
        "\n"
       ]
      },
      {
       "output_type": "stream",
       "stream": "stderr",
       "text": [
        "\n"
       ]
      }
     ],
     "prompt_number": 28
    },
    {
     "cell_type": "code",
     "collapsed": false,
     "input": [],
     "language": "python",
     "metadata": {},
     "outputs": []
    }
   ],
   "metadata": {}
  }
 ]
}