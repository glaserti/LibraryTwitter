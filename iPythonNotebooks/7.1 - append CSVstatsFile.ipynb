{
 "metadata": {
  "name": ""
 },
 "nbformat": 3,
 "nbformat_minor": 0,
 "worksheets": [
  {
   "cells": [
    {
     "cell_type": "heading",
     "level": 1,
     "metadata": {},
     "source": [
      "Extending the TimelineStatistic"
     ]
    },
    {
     "cell_type": "markdown",
     "metadata": {},
     "source": [
      "This Notebook appends the TimelineStatsfile with ReplyStats-file, thus adding the Communication category to the TLstats file, with the keys:\n",
      "\n",
      "   - 'is_reply', (1; if there is no corresponding id in the TLS-file, the value is 0, and the other variables are set to: 'NA')\n",
      "   - 'original_is_question', (if there is a questionmark in the original post: 1, else: 0) \n",
      "   - 'reply_is_answer', (when original tweet contained the screen_name of the library: 1, else: 0)\n",
      "   - 'hours_to_answer', \n",
      "   - 'is_follower', (when original account is a follower of the library: professional or nonprof, else 0)\n",
      "   - 'follower_local', (when original account is a follower of the library and is local: 1, else 0)\n",
      "   - 'orphan' (when the original tweet is no longer accessible: 1, else: 0)\n",
      "   \n",
      "\n"
     ]
    },
    {
     "cell_type": "code",
     "collapsed": false,
     "input": [
      "import csv\n",
      "\n",
      "def impCSV(input_file):\n",
      "    '''\n",
      "    input_file = csv with keys: \"URL\", \"Twitter\"\n",
      "    output = list of dictionaries\n",
      "    '''\n",
      "    f = open(input_file, 'r')\n",
      "    d = csv.DictReader(f)\n",
      "    LoD = []   # list of dictionaries\n",
      "    for row in d:\n",
      "        LoD.append(row)\n",
      "    f.close()\n",
      "    return LoD\n",
      "\n",
      "def exp2CSV(listOfDict, screen_name):\n",
      "    '''\n",
      "    arguments = list of dictionaries, filename\n",
      "    output = saves file to cwd (current working directory)\n",
      "    '''\n",
      "    #creating the filename of the csv with current datestamp \n",
      "    import datetime\n",
      "    datestamp = datetime.datetime.now().strftime('%Y-%m-%d')    \n",
      "    outputfile = screen_name + '_timelineStats_' + datestamp + '.csv'\n",
      "    keyz = listOfDict[0].keys()\n",
      "    f = open(outputfile,'w')\n",
      "    dict_writer = csv.DictWriter(f,keyz)\n",
      "    dict_writer.writer.writerow(keyz)\n",
      "    dict_writer.writerows(listOfDict)\n",
      "    f.close()\n",
      "    print 'Conversation statistics was saved as ' + outputfile + '.'\n",
      "\n",
      "        \n",
      "def sortLoD(listname, key):\n",
      "    from operator import itemgetter\n",
      "    listname.sort(key=itemgetter(key))         # sorting the list over the given key of the dictionary\n",
      "    return listname\n",
      "\n",
      "def bisectInLoD(listname, key, value):\n",
      "    '''\n",
      "    input: listname of sorted LoD (sortLoD-Function!), key and value\n",
      "    return index of key-value pair will be returned\n",
      "    '''\n",
      "    i_min = 0\n",
      "    i_max = len(listname) -1\n",
      "    i_mid = i_min + (i_max-i_min)/2\n",
      "    if str(value) == str(listname[i_min][key]):\n",
      "        return i_min\n",
      "    elif str(value) == str(listname[i_max][key]):\n",
      "        return i_max\n",
      "    #elif str(value) == str(listname[i_mid][key]):\n",
      "    #    return i_mid\n",
      "    else:\n",
      "        while str(value) != str(listname[i_mid][key]):\n",
      "            # print 'i_min', i_min, 'i_mid', i_mid,'i_max', i_max       #   T E S T\n",
      "            if i_mid == i_max or i_mid == i_min:\n",
      "                # print 'Some error occured!'                           #   T E S T\n",
      "                return None\n",
      "            elif str(value) > str(listname[i_mid][key]):\n",
      "                i_min = i_mid\n",
      "                i_mid = i_min + (i_max-i_min)/2            \n",
      "            elif str(value) < str(listname[i_mid][key]):\n",
      "                i_max = i_mid\n",
      "                i_mid = i_min + (i_max-i_min)/2\n",
      "    return i_mid\n",
      "\n"
     ],
     "language": "python",
     "metadata": {},
     "outputs": [],
     "prompt_number": 7
    },
    {
     "cell_type": "code",
     "collapsed": false,
     "input": [
      "def updateTLSConv(Twitterfile, dateTLS, dateRStats):\n",
      "#Twitterfile to get handles\n",
      "    workLoD = []\n",
      "    # open TLS\n",
      "    tlsfile = Twitterfile[:-11] + '_timelineStats_' + dateTLS + '.csv'\n",
      "    tls = impCSV(tlsfile)\n",
      "    \n",
      "    f = impCSV(Twitterfile)\n",
      "    #listHandles = []\n",
      "    for e in f:\n",
      "        handle = e['Twitter']                # get Twitter handel of the library\n",
      "        #listHandles.append(handle)\n",
      "        RSfile = handle + '_ReplyStats_' + dateRStats + '.csv'\n",
      "    \n",
      "    # open ReplyStats\n",
      "        try:\n",
      "            RStats = impCSV(RSfile)\n",
      "            # sort ReplyStats\n",
      "            RStats = sortLoD(RStats, 'reply_status_id')\n",
      "    \n",
      "            # for e in TLS:\n",
      "            for i in range(len(tls)):\n",
      "                if tls[i]['screen_name'] == handle:\n",
      "                    workDic = tls[i]\n",
      "                    idx = bisectInLoD(RStats, 'reply_status_id', tls[i]['id_str'])\n",
      "                    if idx != None:                    \n",
      "                        workDic.update(RStats[idx])\n",
      "                        workDic.pop('reply_time', None)\n",
      "                        workDic.pop('reply_status_id', None)\n",
      "                        workDic.pop('original_time', None)\n",
      "                        workDic['is_reply'] = 1\n",
      "                    else:\n",
      "                        workDic['original_is_question'] = 'NA'\n",
      "                        workDic['reply_is_answer'] = 'NA'\n",
      "                        workDic['orphan'] = 'NA'\t\n",
      "                        workDic['hours_to_answer'] = 'NA'\t\n",
      "                        workDic['is_follower'] = 'NA'\n",
      "                        workDic['follower_local'] = 'NA'\t\n",
      "                        workDic['is_reply'] = 0\n",
      "                    workLoD.append(workDic)\n",
      "            \n",
      "        except:\n",
      "            for i in range(len(tls)):\n",
      "                if tls[i]['screen_name'] == handle:\n",
      "                    print 'File not accessible:', RSfile\n",
      "                    for i in range(len(tls)): \n",
      "                        workDic = tls[i]\n",
      "                        workDic['original_is_question'] = 'NA'\n",
      "                        workDic['reply_is_answer'] = 'NA'\n",
      "                        workDic['orphan'] = 'NA'\t\n",
      "                        workDic['hours_to_answer'] = 'NA'\t\n",
      "                        workDic['is_follower'] = 'NA'\n",
      "                        workDic['follower_local'] = 'NA'\t\n",
      "                        workDic['is_reply'] = 0\n",
      "                        workLoD.append(workDic)\n",
      "        #print len(workLoD)\n",
      "    exp2CSV(workLoD, Twitterfile[:-11])\n",
      "    \n",
      "    return workLoD"
     ],
     "language": "python",
     "metadata": {},
     "outputs": [],
     "prompt_number": 2
    },
    {
     "cell_type": "code",
     "collapsed": false,
     "input": [
      "NBTLS = updateTLSConv('NatBibTwitter.csv', '2014-04-07', '2014-04-07')"
     ],
     "language": "python",
     "metadata": {},
     "outputs": [
      {
       "output_type": "stream",
       "stream": "stdout",
       "text": [
        "Conversation statistics was saved as NatBib_timelineStats_2014-04-09.csv.\n"
       ]
      }
     ],
     "prompt_number": 8
    },
    {
     "cell_type": "code",
     "collapsed": false,
     "input": [
      "UBTLS = updateTLSConv('UnibibTwitter.csv', '2014-04-07', '2014-04-08')"
     ],
     "language": "python",
     "metadata": {},
     "outputs": [
      {
       "output_type": "stream",
       "stream": "stdout",
       "text": [
        "Conversation statistics was saved as Unibib_timelineStats_2014-04-09.csv.\n"
       ]
      }
     ],
     "prompt_number": 9
    },
    {
     "cell_type": "code",
     "collapsed": false,
     "input": [
      "OBTLS = updateTLSConv('OeBibTwitter.csv', '2014-04-07', '2014-04-08')"
     ],
     "language": "python",
     "metadata": {},
     "outputs": [
      {
       "output_type": "stream",
       "stream": "stdout",
       "text": [
        "Conversation statistics was saved as OeBib_timelineStats_2014-04-09.csv.\n"
       ]
      }
     ],
     "prompt_number": 10
    }
   ],
   "metadata": {}
  }
 ]
}