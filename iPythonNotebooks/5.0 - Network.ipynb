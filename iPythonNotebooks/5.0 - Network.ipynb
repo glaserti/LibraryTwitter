{
 "metadata": {
  "name": ""
 },
 "nbformat": 3,
 "nbformat_minor": 0,
 "worksheets": [
  {
   "cells": [
    {
     "cell_type": "heading",
     "level": 2,
     "metadata": {},
     "source": [
      "Authentication"
     ]
    },
    {
     "cell_type": "code",
     "collapsed": false,
     "input": [
      "# Code from MTSW 2Ed.\n",
      "# cf. https://github.com/ptwobrussell/Mining-the-Social-Web-2nd-Edition\n",
      "\n",
      "import twitter\n",
      "\n",
      "def oauth_login():\n",
      "    # XXX: Go to http://twitter.com/apps/new to create an app and get values\n",
      "    # for these credentials that you'll need to provide in place of these\n",
      "    # empty string values that are defined as placeholders.\n",
      "    # See https://dev.twitter.com/docs/auth/oauth for more information \n",
      "    # on Twitter's OAuth implementation.\n",
      "    \n",
      "    CONSUMER_KEY = \n",
      "    CONSUMER_SECRET =\n",
      "    OAUTH_TOKEN = \n",
      "    OAUTH_TOKEN_SECRET = \n",
      "    auth = twitter.oauth.OAuth(OAUTH_TOKEN, OAUTH_TOKEN_SECRET,\n",
      "                               CONSUMER_KEY, CONSUMER_SECRET)\n",
      "    \n",
      "    twitter_api = twitter.Twitter(auth=auth)\n",
      "    return twitter_api\n",
      "\n",
      "# Sample usage\n",
      "twitter_api = oauth_login()    \n",
      "\n",
      "\n",
      "import sys\n",
      "import time\n",
      "from urllib2 import URLError\n",
      "from httplib import BadStatusLine\n",
      "import json\n",
      "import twitter\n",
      "\n",
      "\n",
      "def make_twitter_request(twitter_api_func, max_errors=10, *args, **kw): \n",
      "    \n",
      "    # A nested helper function that handles common HTTPErrors. Return an updated\n",
      "    # value for wait_period if the problem is a 500 level error. Block until the\n",
      "    # rate limit is reset if it's a rate limiting issue (429 error). Returns None\n",
      "    # for 401 and 404 errors, which requires special handling by the caller.\n",
      "    \n",
      "    def handle_twitter_http_error(e, wait_period=2, sleep_when_rate_limited=True):\n",
      "    \n",
      "        if wait_period > 3600: # Seconds\n",
      "            print >> sys.stderr, 'Too many retries. Quitting.'\n",
      "            raise e\n",
      "    \n",
      "        # See https://dev.twitter.com/docs/error-codes-responses for common codes\n",
      "    \n",
      "        if e.e.code == 401:\n",
      "            print >> sys.stderr, 'Encountered 401 Error (Not Authorized)'\n",
      "            return None\n",
      "        elif e.e.code == 404:\n",
      "            print >> sys.stderr, 'Encountered 404 Error (Not Found)'\n",
      "            return None\n",
      "        elif e.e.code == 429: \n",
      "            print >> sys.stderr, 'Encountered 429 Error (Rate Limit Exceeded)'\n",
      "            if sleep_when_rate_limited:\n",
      "                print >> sys.stderr, \"Retrying in 15 minutes...ZzZ...\"\n",
      "                sys.stderr.flush()\n",
      "                time.sleep(60*15 + 5)\n",
      "                print >> sys.stderr, '...ZzZ...Awake now and trying again.'\n",
      "                return 2\n",
      "            else:\n",
      "                raise e # Caller must handle the rate limiting issue\n",
      "        elif e.e.code in (500, 502, 503, 504):\n",
      "            print >> sys.stderr, 'Encountered %i Error. Retrying in %i seconds' % \\\n",
      "                (e.e.code, wait_period)\n",
      "            time.sleep(wait_period)\n",
      "            wait_period *= 1.5\n",
      "            return wait_period\n",
      "        else:\n",
      "            raise e\n",
      "\n",
      "    # End of nested helper function\n",
      "    \n",
      "    wait_period = 2 \n",
      "    error_count = 0 \n",
      "\n",
      "    while True:\n",
      "        try:\n",
      "            return twitter_api_func(*args, **kw)\n",
      "        except twitter.api.TwitterHTTPError, e:\n",
      "            error_count = 0 \n",
      "            wait_period = handle_twitter_http_error(e, wait_period)\n",
      "            if wait_period is None:\n",
      "                return\n",
      "        except URLError, e:\n",
      "            error_count += 1\n",
      "            time.sleep(wait_period)\n",
      "            wait_period *= 1.5\n",
      "            print >> sys.stderr, \"URLError encountered. Continuing.\"\n",
      "            if error_count > max_errors:\n",
      "                print >> sys.stderr, \"Too many consecutive errors...bailing out.\"\n",
      "                raise\n",
      "        except BadStatusLine, e:\n",
      "            error_count += 1\n",
      "            time.sleep(wait_period)\n",
      "            wait_period *= 1.5\n",
      "            print >> sys.stderr, \"BadStatusLine encountered. Continuing.\"\n",
      "            if error_count > max_errors:\n",
      "                print >> sys.stderr, \"Too many consecutive errors...bailing out.\"\n",
      "                raise\n",
      "\n",
      "\n",
      "\n",
      "from functools import partial\n",
      "from sys import maxint\n",
      "\n",
      "def get_friends_followers_ids(twitter_api, screen_name=None, user_id=None,\n",
      "                              friends_limit=maxint, followers_limit=maxint):\n",
      "    \n",
      "    # Must have either screen_name or user_id (logical xor)\n",
      "    assert (screen_name != None) != (user_id != None), \\\n",
      "    \"Must have screen_name or user_id, but not both\"\n",
      "    \n",
      "    # See https://dev.twitter.com/docs/api/1.1/get/friends/ids and\n",
      "    # https://dev.twitter.com/docs/api/1.1/get/followers/ids for details\n",
      "    # on API parameters\n",
      "    \n",
      "    get_friends_ids = partial(make_twitter_request, twitter_api.friends.ids, \n",
      "                              count=5000)\n",
      "    get_followers_ids = partial(make_twitter_request, twitter_api.followers.ids, \n",
      "                                count=5000)\n",
      "\n",
      "    friends_ids, followers_ids = [], []\n",
      "    \n",
      "    for twitter_api_func, limit, ids, label in [\n",
      "                    [get_friends_ids, friends_limit, friends_ids, \"friends\"], \n",
      "                    [get_followers_ids, followers_limit, followers_ids, \"followers\"]\n",
      "                ]:\n",
      "        \n",
      "        if limit == 0: continue\n",
      "        \n",
      "        cursor = -1\n",
      "        while cursor != 0:\n",
      "        \n",
      "            # Use make_twitter_request via the partially bound callable...\n",
      "            if screen_name: \n",
      "                response = twitter_api_func(screen_name=screen_name, cursor=cursor)\n",
      "            else: # user_id\n",
      "                response = twitter_api_func(user_id=user_id, cursor=cursor)\n",
      "\n",
      "            if response is not None:\n",
      "                ids += response['ids']\n",
      "                cursor = response['next_cursor']\n",
      "        \n",
      "            print >> sys.stderr, 'Fetched {0} total {1} ids for {2}'.format(len(ids), \n",
      "                                                    label, (user_id or screen_name))\n",
      "        \n",
      "            # XXX: You may want to store data during each iteration to provide an \n",
      "            # an additional layer of protection from exceptional circumstances\n",
      "        \n",
      "            if len(ids) >= limit or response is None:\n",
      "                break\n",
      "\n",
      "    # Do something useful with the IDs, like store them to disk...\n",
      "    return friends_ids[:friends_limit], followers_ids[:followers_limit]\n"
     ],
     "language": "python",
     "metadata": {},
     "outputs": [],
     "prompt_number": 1
    },
    {
     "cell_type": "heading",
     "level": 2,
     "metadata": {},
     "source": [
      "Helper Functions"
     ]
    },
    {
     "cell_type": "code",
     "collapsed": false,
     "input": [
      "#importing libraries\n",
      "import json   #for pretty printing\n",
      "import time   #for calculating Tweets per day\n",
      "import operator #for sorting dictionaries\n",
      "from collections import Counter #for turning lists to dictionaries etc.\n",
      "    \n",
      "# helper function: safe the results as a csv-file\n",
      "\n",
      "#import & export CSV\n",
      "import csv\n",
      "\n",
      "def impCSV(input_file):\n",
      "    '''\n",
      "    input_file = csv with keys: \"URL\", \"Twitter\"\n",
      "    output = list of dictionaries\n",
      "    '''\n",
      "    f = open(input_file, 'r')\n",
      "    d = csv.DictReader(f)\n",
      "    LoD = []   # list of dictionaries\n",
      "    for row in d:\n",
      "        LoD.append(row)\n",
      "    f.close()\n",
      "    return LoD\n",
      "\n",
      "def exp2CSV(listOfDict, filename):\n",
      "    '''\n",
      "    arguments = list of dictionaries, filename\n",
      "    output = saves file to cwd (current working directory)\n",
      "    '''\n",
      "    outputfile = filename\n",
      "    keyz = listOfDict[0].keys()\n",
      "    f = open(outputfile,'w')\n",
      "    dict_writer = csv.DictWriter(f,keyz)\n",
      "    dict_writer.writer.writerow(keyz)\n",
      "    dict_writer.writerows(listOfDict)\n",
      "    f.close()\n"
     ],
     "language": "python",
     "metadata": {},
     "outputs": [],
     "prompt_number": 2
    },
    {
     "cell_type": "heading",
     "level": 2,
     "metadata": {},
     "source": [
      "1. Analyzing the Library's Network"
     ]
    },
    {
     "cell_type": "heading",
     "level": 3,
     "metadata": {},
     "source": [
      "1.2. Getting & Calculating Intersection & Differences: are they following back?"
     ]
    },
    {
     "cell_type": "code",
     "collapsed": false,
     "input": [
      "# getting Friends & Followers\n",
      "\n",
      "def getFnFs(screen_name):\n",
      "    '''\n",
      "    input = screen name of a library\n",
      "    output = dictionary with IDs of FnFs, IDs of reciprocal following and stats\n",
      "    '''\n",
      "    FnFdict = {}\n",
      "    FnFdict['screen_name'] = screen_name\n",
      "     \n",
      "    friends_ids, followers_ids = get_friends_followers_ids(twitter_api,screen_name)    \n",
      "        \n",
      "    FnFdict['friends_ids'] = friends_ids\n",
      "    FnFdict['followers_ids'] = followers_ids\n",
      "\n",
      "    # Reciprocal Following?\n",
      "    FnFdict['friends_ids'], FnFdict['followers_ids'] = set(FnFdict['friends_ids']), set(FnFdict['followers_ids'])\n",
      "    FnFdict['followBack'] = FnFdict['friends_ids'].intersection(FnFdict['followers_ids'])\n",
      "    FnFdict['followBackCount'] = len(FnFdict['followBack'])   #Nr of reciprocal following\n",
      "    FnFdict['XFollowsNotBack'] = len(FnFdict['followers_ids'].difference(FnFdict['friends_ids']))   #Nr of accounts, screen_name is not following back\n",
      "    FnFdict['NotFollowXBack'] = len(FnFdict['friends_ids'].difference(FnFdict['followers_ids']))   #Nr of accounts which are not following screen_name back\n",
      "    if len(FnFdict['followers_ids']) != 0:\n",
      "        FnFdict['activeNotFollowRatio'] = round((1.0*(FnFdict['XFollowsNotBack']))/len(FnFdict['followers_ids']),2)  #Ratio of screen_name not following back\n",
      "    else:\n",
      "        FnFdict['activeNotFollowRatio'] = 0\n",
      "    if len(FnFdict['friends_ids']) != 0:\n",
      "        FnFdict['passiveNotFollowRatio'] = round((1.0*(FnFdict['NotFollowXBack']))/len(FnFdict['friends_ids']),2)    #Ratio of accounts not following screen_name back\n",
      "    else:\n",
      "        FnFdict['passiveNotFollowRatio'] = 0\n",
      "    FnFdict['friends_ids'] = list(FnFdict['friends_ids']) #convert friends & followers & followBack ids back to list instead of set\n",
      "    FnFdict['followers_ids'] = list(FnFdict['followers_ids'])\n",
      "    FnFdict['followBack'] = list(FnFdict['followBack'])\n",
      "    return FnFdict\n"
     ],
     "language": "python",
     "metadata": {},
     "outputs": [],
     "prompt_number": 3
    },
    {
     "cell_type": "code",
     "collapsed": false,
     "input": [
      "\n",
      "def wrapUp(csvFile):\n",
      "    '''\n",
      "    input: csv file (\"OeBibBasicStats.csv, UniBibBasicStats.csv or NatBibBasicStats.csv\") with keys 'screen_name' and 'location'\n",
      "    output: csv files with dictionaries for each library as <screen_name>_NetWork_<datestamp>.csv\n",
      "    prints out an short report\n",
      "    '''\n",
      "    import datetime\n",
      "    datestamp = datetime.datetime.now().strftime('%Y-%m-%d')\n",
      "    \n",
      "    workLoD = impCSV(csvFile)\n",
      "    \n",
      "    \n",
      "    for i in range(len(workLoD)):\n",
      "        \n",
      "        # add screen name & location of the library to dictionary\n",
      "        workDict = {}\n",
      "        workDict['screen_name'] = workLoD[i]['screen_name']\n",
      "        workDict['libLocation'] = workLoD[i]['location']\n",
      "        \n",
      "        # Friends & Follower\n",
      "        workDict.update(getFnFs(workDict['screen_name']))\n",
      "        \n",
      "        #creating the filename of the csv with current datestamp and save to csv\n",
      "        l = [workDict] \n",
      "                \n",
      "        filename = workDict['screen_name'] + '_NetWork_' + datestamp + '.csv'\n",
      "        exp2CSV(l, filename)\n",
      "        \n",
      "        #print report\n",
      "        print\n",
      "        s = 'Report for ' + workDict['screen_name'] + ':'\n",
      "        print s\n",
      "        print len(s)*'='\n",
      "        print \n",
      "        print 'File saved as', filename\n",
      "        print\n",
      "        print 'Friends:', len(workDict['friends_ids'])\n",
      "        print 'Followers:', len(workDict['followers_ids'])\n",
      "        print 'followBack:', workDict['followBackCount']\n",
      "        print 'XFollowsNotBack:', workDict['XFollowsNotBack']\n",
      "        print 'NotFollowXBack:', workDict['NotFollowXBack']\n",
      "        print 'activeNotFollowRatio:', workDict['activeNotFollowRatio']\n",
      "        print 'passiveNotFollowRatio:', workDict['passiveNotFollowRatio']\n",
      "        print\n",
      "        print 50*'='\n",
      "    \n"
     ],
     "language": "python",
     "metadata": {},
     "outputs": [],
     "prompt_number": 4
    },
    {
     "cell_type": "heading",
     "level": 3,
     "metadata": {},
     "source": [
      "Function call"
     ]
    },
    {
     "cell_type": "heading",
     "level": 4,
     "metadata": {},
     "source": [
      "National Libraries"
     ]
    },
    {
     "cell_type": "code",
     "collapsed": false,
     "input": [
      "wrapUp('NatBib_BasicStats_2014-04-06.csv')"
     ],
     "language": "python",
     "metadata": {},
     "outputs": [
      {
       "output_type": "stream",
       "stream": "stderr",
       "text": [
        "Fetched 95 total friends ids for bsb_muenchen\n",
        "Fetched 1722 total followers ids for bsb_muenchen"
       ]
      },
      {
       "output_type": "stream",
       "stream": "stderr",
       "text": [
        "\n",
        "Fetched 85 total friends ids for dnb_aktuelles"
       ]
      },
      {
       "output_type": "stream",
       "stream": "stderr",
       "text": [
        "\n",
        "Fetched 557 total followers ids for dnb_aktuelles"
       ]
      },
      {
       "output_type": "stream",
       "stream": "stdout",
       "text": [
        "\n",
        "Report for bsb_muenchen:\n",
        "========================\n",
        "\n",
        "File saved as bsb_muenchen_NetWork_2014-04-06.csv\n",
        "\n",
        "Friends: 95\n",
        "Followers: 1722\n",
        "followBack: 62\n",
        "XFollowsNotBack: 1660\n",
        "NotFollowXBack: 33\n",
        "activeNotFollowRatio: 0.96\n",
        "passiveNotFollowRatio: 0.35\n",
        "\n",
        "==================================================\n",
        "\n"
       ]
      },
      {
       "output_type": "stream",
       "stream": "stderr",
       "text": [
        "\n",
        "Fetched 0 total friends ids for sbb_news"
       ]
      },
      {
       "output_type": "stream",
       "stream": "stderr",
       "text": [
        "\n",
        "Fetched 1312 total followers ids for sbb_news"
       ]
      },
      {
       "output_type": "stream",
       "stream": "stdout",
       "text": [
        "Report for dnb_aktuelles:\n",
        "=========================\n",
        "\n",
        "File saved as dnb_aktuelles_NetWork_2014-04-06.csv\n",
        "\n",
        "Friends: 85\n",
        "Followers: 557\n",
        "followBack: 36\n",
        "XFollowsNotBack: 521\n",
        "NotFollowXBack: 49\n",
        "activeNotFollowRatio: 0.94\n",
        "passiveNotFollowRatio: 0.58\n",
        "\n",
        "==================================================\n",
        "\n"
       ]
      },
      {
       "output_type": "stream",
       "stream": "stdout",
       "text": [
        "Report for sbb_news:\n",
        "====================\n",
        "\n",
        "File saved as sbb_news_NetWork_2014-04-06.csv\n",
        "\n",
        "Friends: 0\n",
        "Followers: 1312\n",
        "followBack: 0\n",
        "XFollowsNotBack: 1312\n",
        "NotFollowXBack: 0\n",
        "activeNotFollowRatio: 1.0\n",
        "passiveNotFollowRatio: 0\n",
        "\n",
        "==================================================\n"
       ]
      },
      {
       "output_type": "stream",
       "stream": "stderr",
       "text": [
        "\n"
       ]
      }
     ],
     "prompt_number": 5
    },
    {
     "cell_type": "heading",
     "level": 4,
     "metadata": {},
     "source": [
      "University Libraries"
     ]
    },
    {
     "cell_type": "code",
     "collapsed": false,
     "input": [
      "wrapUp('UniBib_BasicStats_2014-04-06.csv')"
     ],
     "language": "python",
     "metadata": {},
     "outputs": [
      {
       "output_type": "stream",
       "stream": "stderr",
       "text": [
        "Fetched 27 total friends ids for ub_oldenburg\n",
        "Fetched 164 total followers ids for ub_oldenburg"
       ]
      },
      {
       "output_type": "stream",
       "stream": "stderr",
       "text": [
        "\n",
        "Fetched 166 total friends ids for hsubib"
       ]
      },
      {
       "output_type": "stream",
       "stream": "stderr",
       "text": [
        "\n",
        "Fetched 697 total followers ids for hsubib"
       ]
      },
      {
       "output_type": "stream",
       "stream": "stdout",
       "text": [
        "\n",
        "Report for ub_oldenburg:\n",
        "========================\n",
        "\n",
        "File saved as ub_oldenburg_NetWork_2014-04-06.csv\n",
        "\n",
        "Friends: 27\n",
        "Followers: 164\n",
        "followBack: 27\n",
        "XFollowsNotBack: 137\n",
        "NotFollowXBack: 0\n",
        "activeNotFollowRatio: 0.84\n",
        "passiveNotFollowRatio: 0.0\n",
        "\n",
        "==================================================\n",
        "\n"
       ]
      },
      {
       "output_type": "stream",
       "stream": "stderr",
       "text": [
        "\n",
        "Fetched 25 total friends ids for ubhumboldtuni"
       ]
      },
      {
       "output_type": "stream",
       "stream": "stderr",
       "text": [
        "\n",
        "Fetched 488 total followers ids for ubhumboldtuni"
       ]
      },
      {
       "output_type": "stream",
       "stream": "stdout",
       "text": [
        "Report for hsubib:\n",
        "==================\n",
        "\n",
        "File saved as hsubib_NetWork_2014-04-06.csv\n",
        "\n",
        "Friends: 166\n",
        "Followers: 697\n",
        "followBack: 81\n",
        "XFollowsNotBack: 616\n",
        "NotFollowXBack: 85\n",
        "activeNotFollowRatio: 0.88\n",
        "passiveNotFollowRatio: 0.51\n",
        "\n",
        "==================================================\n",
        "\n"
       ]
      },
      {
       "output_type": "stream",
       "stream": "stderr",
       "text": [
        "\n",
        "Fetched 20 total friends ids for kitbibliothek"
       ]
      },
      {
       "output_type": "stream",
       "stream": "stderr",
       "text": [
        "\n",
        "Fetched 269 total followers ids for kitbibliothek"
       ]
      },
      {
       "output_type": "stream",
       "stream": "stdout",
       "text": [
        "Report for ubhumboldtuni:\n",
        "=========================\n",
        "\n",
        "File saved as ubhumboldtuni_NetWork_2014-04-06.csv\n",
        "\n",
        "Friends: 25\n",
        "Followers: 488\n",
        "followBack: 9\n",
        "XFollowsNotBack: 479\n",
        "NotFollowXBack: 16\n",
        "activeNotFollowRatio: 0.98\n",
        "passiveNotFollowRatio: 0.64\n",
        "\n",
        "==================================================\n",
        "\n"
       ]
      },
      {
       "output_type": "stream",
       "stream": "stderr",
       "text": [
        "\n",
        "Fetched 64 total friends ids for kizuulm"
       ]
      },
      {
       "output_type": "stream",
       "stream": "stderr",
       "text": [
        "\n",
        "Fetched 143 total followers ids for kizuulm"
       ]
      },
      {
       "output_type": "stream",
       "stream": "stdout",
       "text": [
        "Report for kitbibliothek:\n",
        "=========================\n",
        "\n",
        "File saved as kitbibliothek_NetWork_2014-04-06.csv\n",
        "\n",
        "Friends: 20\n",
        "Followers: 269\n",
        "followBack: 8\n",
        "XFollowsNotBack: 261\n",
        "NotFollowXBack: 12\n",
        "activeNotFollowRatio: 0.97\n",
        "passiveNotFollowRatio: 0.6\n",
        "\n",
        "==================================================\n",
        "\n"
       ]
      },
      {
       "output_type": "stream",
       "stream": "stderr",
       "text": [
        "\n",
        "Fetched 48 total friends ids for subugoe"
       ]
      },
      {
       "output_type": "stream",
       "stream": "stderr",
       "text": [
        "\n",
        "Fetched 181 total followers ids for subugoe"
       ]
      },
      {
       "output_type": "stream",
       "stream": "stdout",
       "text": [
        "Report for kizuulm:\n",
        "===================\n",
        "\n",
        "File saved as kizuulm_NetWork_2014-04-06.csv\n",
        "\n",
        "Friends: 64\n",
        "Followers: 143\n",
        "followBack: 42\n",
        "XFollowsNotBack: 101\n",
        "NotFollowXBack: 22\n",
        "activeNotFollowRatio: 0.71\n",
        "passiveNotFollowRatio: 0.34\n",
        "\n",
        "==================================================\n",
        "\n"
       ]
      },
      {
       "output_type": "stream",
       "stream": "stderr",
       "text": [
        "\n",
        "Fetched 218 total friends ids for ubbochum"
       ]
      },
      {
       "output_type": "stream",
       "stream": "stderr",
       "text": [
        "\n",
        "Fetched 1068 total followers ids for ubbochum"
       ]
      },
      {
       "output_type": "stream",
       "stream": "stdout",
       "text": [
        "Report for subugoe:\n",
        "===================\n",
        "\n",
        "File saved as subugoe_NetWork_2014-04-06.csv\n",
        "\n",
        "Friends: 48\n",
        "Followers: 181\n",
        "followBack: 25\n",
        "XFollowsNotBack: 156\n",
        "NotFollowXBack: 23\n",
        "activeNotFollowRatio: 0.86\n",
        "passiveNotFollowRatio: 0.48\n",
        "\n",
        "==================================================\n",
        "\n"
       ]
      },
      {
       "output_type": "stream",
       "stream": "stderr",
       "text": [
        "\n",
        "Fetched 824 total friends ids for slubdresden"
       ]
      },
      {
       "output_type": "stream",
       "stream": "stderr",
       "text": [
        "\n",
        "Fetched 3814 total followers ids for slubdresden"
       ]
      },
      {
       "output_type": "stream",
       "stream": "stdout",
       "text": [
        "Report for ubbochum:\n",
        "====================\n",
        "\n",
        "File saved as ubbochum_NetWork_2014-04-06.csv\n",
        "\n",
        "Friends: 218\n",
        "Followers: 1068\n",
        "followBack: 141\n",
        "XFollowsNotBack: 927\n",
        "NotFollowXBack: 77\n",
        "activeNotFollowRatio: 0.87\n",
        "passiveNotFollowRatio: 0.35\n",
        "\n",
        "==================================================\n",
        "\n"
       ]
      },
      {
       "output_type": "stream",
       "stream": "stderr",
       "text": [
        "\n",
        "Fetched 755 total friends ids for elibbremen"
       ]
      },
      {
       "output_type": "stream",
       "stream": "stderr",
       "text": [
        "\n",
        "Fetched 1079 total followers ids for elibbremen"
       ]
      },
      {
       "output_type": "stream",
       "stream": "stdout",
       "text": [
        "Report for slubdresden:\n",
        "=======================\n",
        "\n",
        "File saved as slubdresden_NetWork_2014-04-06.csv\n",
        "\n",
        "Friends: 824\n",
        "Followers: 3814\n",
        "followBack: 591\n",
        "XFollowsNotBack: 3223\n",
        "NotFollowXBack: 233\n",
        "activeNotFollowRatio: 0.85\n",
        "passiveNotFollowRatio: 0.28\n",
        "\n",
        "==================================================\n",
        "\n"
       ]
      },
      {
       "output_type": "stream",
       "stream": "stderr",
       "text": [
        "\n",
        "Fetched 248 total friends ids for stabihh"
       ]
      },
      {
       "output_type": "stream",
       "stream": "stderr",
       "text": [
        "\n",
        "Fetched 1726 total followers ids for stabihh"
       ]
      },
      {
       "output_type": "stream",
       "stream": "stdout",
       "text": [
        "Report for elibbremen:\n",
        "======================\n",
        "\n",
        "File saved as elibbremen_NetWork_2014-04-06.csv\n",
        "\n",
        "Friends: 755\n",
        "Followers: 1079\n",
        "followBack: 401\n",
        "XFollowsNotBack: 678\n",
        "NotFollowXBack: 354\n",
        "activeNotFollowRatio: 0.63\n",
        "passiveNotFollowRatio: 0.47\n",
        "\n",
        "==================================================\n",
        "\n"
       ]
      },
      {
       "output_type": "stream",
       "stream": "stderr",
       "text": [
        "\n",
        "Fetched 377 total friends ids for ub_tu_berlin"
       ]
      },
      {
       "output_type": "stream",
       "stream": "stderr",
       "text": [
        "\n",
        "Fetched 877 total followers ids for ub_tu_berlin"
       ]
      },
      {
       "output_type": "stream",
       "stream": "stdout",
       "text": [
        "Report for stabihh:\n",
        "===================\n",
        "\n",
        "File saved as stabihh_NetWork_2014-04-06.csv\n",
        "\n",
        "Friends: 248\n",
        "Followers: 1726\n",
        "followBack: 183\n",
        "XFollowsNotBack: 1543\n",
        "NotFollowXBack: 65\n",
        "activeNotFollowRatio: 0.89\n",
        "passiveNotFollowRatio: 0.26\n",
        "\n",
        "==================================================\n",
        "\n"
       ]
      },
      {
       "output_type": "stream",
       "stream": "stderr",
       "text": [
        "\n",
        "Fetched 29 total friends ids for tubhh"
       ]
      },
      {
       "output_type": "stream",
       "stream": "stderr",
       "text": [
        "\n",
        "Fetched 652 total followers ids for tubhh"
       ]
      },
      {
       "output_type": "stream",
       "stream": "stdout",
       "text": [
        "Report for ub_tu_berlin:\n",
        "========================\n",
        "\n",
        "File saved as ub_tu_berlin_NetWork_2014-04-06.csv\n",
        "\n",
        "Friends: 377\n",
        "Followers: 877\n",
        "followBack: 132\n",
        "XFollowsNotBack: 745\n",
        "NotFollowXBack: 245\n",
        "activeNotFollowRatio: 0.85\n",
        "passiveNotFollowRatio: 0.65\n",
        "\n",
        "==================================================\n",
        "\n"
       ]
      },
      {
       "output_type": "stream",
       "stream": "stderr",
       "text": [
        "\n",
        "Fetched 36 total friends ids for ulbbonn"
       ]
      },
      {
       "output_type": "stream",
       "stream": "stderr",
       "text": [
        "\n",
        "Fetched 410 total followers ids for ulbbonn"
       ]
      },
      {
       "output_type": "stream",
       "stream": "stdout",
       "text": [
        "Report for tubhh:\n",
        "=================\n",
        "\n",
        "File saved as tubhh_NetWork_2014-04-06.csv\n",
        "\n",
        "Friends: 29\n",
        "Followers: 652\n",
        "followBack: 22\n",
        "XFollowsNotBack: 630\n",
        "NotFollowXBack: 7\n",
        "activeNotFollowRatio: 0.97\n",
        "passiveNotFollowRatio: 0.24\n",
        "\n",
        "==================================================\n",
        "\n"
       ]
      },
      {
       "output_type": "stream",
       "stream": "stderr",
       "text": [
        "\n",
        "Fetched 0 total friends ids for ubbayreuth_info"
       ]
      },
      {
       "output_type": "stream",
       "stream": "stderr",
       "text": [
        "\n",
        "Fetched 354 total followers ids for ubbayreuth_info"
       ]
      },
      {
       "output_type": "stream",
       "stream": "stdout",
       "text": [
        "Report for ulbbonn:\n",
        "===================\n",
        "\n",
        "File saved as ulbbonn_NetWork_2014-04-06.csv\n",
        "\n",
        "Friends: 36\n",
        "Followers: 410\n",
        "followBack: 20\n",
        "XFollowsNotBack: 390\n",
        "NotFollowXBack: 16\n",
        "activeNotFollowRatio: 0.95\n",
        "passiveNotFollowRatio: 0.44\n",
        "\n",
        "==================================================\n",
        "\n"
       ]
      },
      {
       "output_type": "stream",
       "stream": "stderr",
       "text": [
        "\n",
        "Fetched 239 total friends ids for ub_bi"
       ]
      },
      {
       "output_type": "stream",
       "stream": "stderr",
       "text": [
        "\n",
        "Fetched 273 total followers ids for ub_bi"
       ]
      },
      {
       "output_type": "stream",
       "stream": "stdout",
       "text": [
        "Report for ubbayreuth_info:\n",
        "===========================\n",
        "\n",
        "File saved as ubbayreuth_info_NetWork_2014-04-06.csv\n",
        "\n",
        "Friends: 0\n",
        "Followers: 354\n",
        "followBack: 0\n",
        "XFollowsNotBack: 354\n",
        "NotFollowXBack: 0\n",
        "activeNotFollowRatio: 1.0\n",
        "passiveNotFollowRatio: 0\n",
        "\n",
        "==================================================\n",
        "\n"
       ]
      },
      {
       "output_type": "stream",
       "stream": "stderr",
       "text": [
        "\n",
        "Encountered 429 Error (Rate Limit Exceeded)"
       ]
      },
      {
       "output_type": "stream",
       "stream": "stderr",
       "text": [
        "\n",
        "Retrying in 15 minutes...ZzZ...\n"
       ]
      },
      {
       "output_type": "stream",
       "stream": "stderr",
       "text": [
        "...ZzZ...Awake now and trying again.\n",
        "Fetched 1 total friends ids for unibib_bs"
       ]
      },
      {
       "output_type": "stream",
       "stream": "stderr",
       "text": [
        "\n",
        "Fetched 123 total followers ids for unibib_bs"
       ]
      },
      {
       "output_type": "stream",
       "stream": "stdout",
       "text": [
        "Report for ub_bi:\n",
        "=================\n",
        "\n",
        "File saved as ub_bi_NetWork_2014-04-06.csv\n",
        "\n",
        "Friends: 239\n",
        "Followers: 273\n",
        "followBack: 65\n",
        "XFollowsNotBack: 208\n",
        "NotFollowXBack: 174\n",
        "activeNotFollowRatio: 0.76\n",
        "passiveNotFollowRatio: 0.73\n",
        "\n",
        "==================================================\n",
        "\n"
       ]
      },
      {
       "output_type": "stream",
       "stream": "stderr",
       "text": [
        "\n",
        "Fetched 17 total friends ids for ub_wue"
       ]
      },
      {
       "output_type": "stream",
       "stream": "stderr",
       "text": [
        "\n",
        "Fetched 220 total followers ids for ub_wue"
       ]
      },
      {
       "output_type": "stream",
       "stream": "stdout",
       "text": [
        "Report for unibib_bs:\n",
        "=====================\n",
        "\n",
        "File saved as unibib_bs_NetWork_2014-04-06.csv\n",
        "\n",
        "Friends: 1\n",
        "Followers: 123\n",
        "followBack: 0\n",
        "XFollowsNotBack: 123\n",
        "NotFollowXBack: 1\n",
        "activeNotFollowRatio: 1.0\n",
        "passiveNotFollowRatio: 1.0\n",
        "\n",
        "==================================================\n",
        "\n"
       ]
      },
      {
       "output_type": "stream",
       "stream": "stderr",
       "text": [
        "\n",
        "Fetched 12 total friends ids for unibib"
       ]
      },
      {
       "output_type": "stream",
       "stream": "stderr",
       "text": [
        "\n",
        "Fetched 1067 total followers ids for unibib"
       ]
      },
      {
       "output_type": "stream",
       "stream": "stdout",
       "text": [
        "Report for ub_wue:\n",
        "==================\n",
        "\n",
        "File saved as ub_wue_NetWork_2014-04-06.csv\n",
        "\n",
        "Friends: 17\n",
        "Followers: 220\n",
        "followBack: 8\n",
        "XFollowsNotBack: 212\n",
        "NotFollowXBack: 9\n",
        "activeNotFollowRatio: 0.96\n",
        "passiveNotFollowRatio: 0.53\n",
        "\n",
        "==================================================\n",
        "\n"
       ]
      },
      {
       "output_type": "stream",
       "stream": "stderr",
       "text": [
        "\n",
        "Fetched 34 total friends ids for ubdue"
       ]
      },
      {
       "output_type": "stream",
       "stream": "stderr",
       "text": [
        "\n",
        "Fetched 795 total followers ids for ubdue"
       ]
      },
      {
       "output_type": "stream",
       "stream": "stdout",
       "text": [
        "Report for unibib:\n",
        "==================\n",
        "\n",
        "File saved as unibib_NetWork_2014-04-06.csv\n",
        "\n",
        "Friends: 12\n",
        "Followers: 1067\n",
        "followBack: 10\n",
        "XFollowsNotBack: 1057\n",
        "NotFollowXBack: 2\n",
        "activeNotFollowRatio: 0.99\n",
        "passiveNotFollowRatio: 0.17\n",
        "\n",
        "==================================================\n",
        "\n"
       ]
      },
      {
       "output_type": "stream",
       "stream": "stderr",
       "text": [
        "\n",
        "Fetched 24 total friends ids for ub_fau"
       ]
      },
      {
       "output_type": "stream",
       "stream": "stderr",
       "text": [
        "\n",
        "Fetched 432 total followers ids for ub_fau"
       ]
      },
      {
       "output_type": "stream",
       "stream": "stdout",
       "text": [
        "Report for ubdue:\n",
        "=================\n",
        "\n",
        "File saved as ubdue_NetWork_2014-04-06.csv\n",
        "\n",
        "Friends: 34\n",
        "Followers: 795\n",
        "followBack: 24\n",
        "XFollowsNotBack: 771\n",
        "NotFollowXBack: 10\n",
        "activeNotFollowRatio: 0.97\n",
        "passiveNotFollowRatio: 0.29\n",
        "\n",
        "==================================================\n",
        "\n"
       ]
      },
      {
       "output_type": "stream",
       "stream": "stderr",
       "text": [
        "\n",
        "Fetched 1025 total friends ids for tibub"
       ]
      },
      {
       "output_type": "stream",
       "stream": "stderr",
       "text": [
        "\n",
        "Fetched 1571 total followers ids for tibub"
       ]
      },
      {
       "output_type": "stream",
       "stream": "stdout",
       "text": [
        "Report for ub_fau:\n",
        "==================\n",
        "\n",
        "File saved as ub_fau_NetWork_2014-04-06.csv\n",
        "\n",
        "Friends: 24\n",
        "Followers: 432\n",
        "followBack: 19\n",
        "XFollowsNotBack: 413\n",
        "NotFollowXBack: 5\n",
        "activeNotFollowRatio: 0.96\n",
        "passiveNotFollowRatio: 0.21\n",
        "\n",
        "==================================================\n",
        "\n"
       ]
      },
      {
       "output_type": "stream",
       "stream": "stderr",
       "text": [
        "\n",
        "Fetched 136 total friends ids for ubkassel"
       ]
      },
      {
       "output_type": "stream",
       "stream": "stderr",
       "text": [
        "\n",
        "Fetched 172 total followers ids for ubkassel"
       ]
      },
      {
       "output_type": "stream",
       "stream": "stdout",
       "text": [
        "Report for tibub:\n",
        "=================\n",
        "\n",
        "File saved as tibub_NetWork_2014-04-06.csv\n",
        "\n",
        "Friends: 1025\n",
        "Followers: 1571\n",
        "followBack: 445\n",
        "XFollowsNotBack: 1126\n",
        "NotFollowXBack: 580\n",
        "activeNotFollowRatio: 0.72\n",
        "passiveNotFollowRatio: 0.57\n",
        "\n",
        "==================================================\n",
        "\n"
       ]
      },
      {
       "output_type": "stream",
       "stream": "stderr",
       "text": [
        "\n",
        "Fetched 232 total friends ids for ubleipzig"
       ]
      },
      {
       "output_type": "stream",
       "stream": "stderr",
       "text": [
        "\n",
        "Fetched 1160 total followers ids for ubleipzig"
       ]
      },
      {
       "output_type": "stream",
       "stream": "stdout",
       "text": [
        "Report for ubkassel:\n",
        "====================\n",
        "\n",
        "File saved as ubkassel_NetWork_2014-04-06.csv\n",
        "\n",
        "Friends: 136\n",
        "Followers: 172\n",
        "followBack: 49\n",
        "XFollowsNotBack: 123\n",
        "NotFollowXBack: 87\n",
        "activeNotFollowRatio: 0.72\n",
        "passiveNotFollowRatio: 0.64\n",
        "\n",
        "==================================================\n",
        "\n"
       ]
      },
      {
       "output_type": "stream",
       "stream": "stderr",
       "text": [
        "\n",
        "Fetched 1066 total friends ids for ubmainz"
       ]
      },
      {
       "output_type": "stream",
       "stream": "stderr",
       "text": [
        "\n",
        "Fetched 653 total followers ids for ubmainz"
       ]
      },
      {
       "output_type": "stream",
       "stream": "stdout",
       "text": [
        "Report for ubleipzig:\n",
        "=====================\n",
        "\n",
        "File saved as ubleipzig_NetWork_2014-04-06.csv\n",
        "\n",
        "Friends: 232\n",
        "Followers: 1160\n",
        "followBack: 118\n",
        "XFollowsNotBack: 1042\n",
        "NotFollowXBack: 114\n",
        "activeNotFollowRatio: 0.9\n",
        "passiveNotFollowRatio: 0.49\n",
        "\n",
        "==================================================\n",
        "\n"
       ]
      },
      {
       "output_type": "stream",
       "stream": "stderr",
       "text": [
        "\n",
        "Fetched 49 total friends ids for unibib_mr"
       ]
      },
      {
       "output_type": "stream",
       "stream": "stderr",
       "text": [
        "\n",
        "Fetched 307 total followers ids for unibib_mr"
       ]
      },
      {
       "output_type": "stream",
       "stream": "stdout",
       "text": [
        "Report for ubmainz:\n",
        "===================\n",
        "\n",
        "File saved as ubmainz_NetWork_2014-04-06.csv\n",
        "\n",
        "Friends: 1066\n",
        "Followers: 653\n",
        "followBack: 602\n",
        "XFollowsNotBack: 51\n",
        "NotFollowXBack: 464\n",
        "activeNotFollowRatio: 0.08\n",
        "passiveNotFollowRatio: 0.44\n",
        "\n",
        "==================================================\n",
        "\n"
       ]
      },
      {
       "output_type": "stream",
       "stream": "stderr",
       "text": [
        "\n",
        "Fetched 254 total friends ids for ubreg"
       ]
      },
      {
       "output_type": "stream",
       "stream": "stderr",
       "text": [
        "\n",
        "Fetched 751 total followers ids for ubreg"
       ]
      },
      {
       "output_type": "stream",
       "stream": "stdout",
       "text": [
        "Report for unibib_mr:\n",
        "=====================\n",
        "\n",
        "File saved as unibib_mr_NetWork_2014-04-06.csv\n",
        "\n",
        "Friends: 49\n",
        "Followers: 307\n",
        "followBack: 27\n",
        "XFollowsNotBack: 280\n",
        "NotFollowXBack: 22\n",
        "activeNotFollowRatio: 0.91\n",
        "passiveNotFollowRatio: 0.45\n",
        "\n",
        "==================================================\n",
        "\n"
       ]
      },
      {
       "output_type": "stream",
       "stream": "stderr",
       "text": [
        "\n",
        "Fetched 2 total friends ids for zbsport"
       ]
      },
      {
       "output_type": "stream",
       "stream": "stderr",
       "text": [
        "\n",
        "Fetched 503 total followers ids for zbsport"
       ]
      },
      {
       "output_type": "stream",
       "stream": "stdout",
       "text": [
        "Report for ubreg:\n",
        "=================\n",
        "\n",
        "File saved as ubreg_NetWork_2014-04-06.csv\n",
        "\n",
        "Friends: 254\n",
        "Followers: 751\n",
        "followBack: 96\n",
        "XFollowsNotBack: 655\n",
        "NotFollowXBack: 158\n",
        "activeNotFollowRatio: 0.87\n",
        "passiveNotFollowRatio: 0.62\n",
        "\n",
        "==================================================\n",
        "\n"
       ]
      },
      {
       "output_type": "stream",
       "stream": "stdout",
       "text": [
        "Report for zbsport:\n",
        "===================\n",
        "\n",
        "File saved as zbsport_NetWork_2014-04-06.csv\n",
        "\n",
        "Friends: 2\n",
        "Followers: 503\n",
        "followBack: 2\n",
        "XFollowsNotBack: 501\n",
        "NotFollowXBack: 0\n",
        "activeNotFollowRatio: 1.0\n",
        "passiveNotFollowRatio: 0.0\n",
        "\n",
        "==================================================\n"
       ]
      },
      {
       "output_type": "stream",
       "stream": "stderr",
       "text": [
        "\n"
       ]
      }
     ],
     "prompt_number": 6
    },
    {
     "cell_type": "heading",
     "level": 4,
     "metadata": {},
     "source": [
      "Public Libraries"
     ]
    },
    {
     "cell_type": "code",
     "collapsed": false,
     "input": [
      "wrapUp('OeBib_BasicStats_2014-04-06.csv')"
     ],
     "language": "python",
     "metadata": {},
     "outputs": [
      {
       "output_type": "stream",
       "stream": "stderr",
       "text": [
        "Fetched 15 total friends ids for stb_bielefeld\n",
        "Fetched 358 total followers ids for stb_bielefeld"
       ]
      },
      {
       "output_type": "stream",
       "stream": "stderr",
       "text": [
        "\n",
        "Fetched 32 total friends ids for stabi_bremen"
       ]
      },
      {
       "output_type": "stream",
       "stream": "stderr",
       "text": [
        "\n",
        "Fetched 981 total followers ids for stabi_bremen"
       ]
      },
      {
       "output_type": "stream",
       "stream": "stdout",
       "text": [
        "\n",
        "Report for stb_bielefeld:\n",
        "=========================\n",
        "\n",
        "File saved as stb_bielefeld_NetWork_2014-04-06.csv\n",
        "\n",
        "Friends: 15\n",
        "Followers: 358\n",
        "followBack: 9\n",
        "XFollowsNotBack: 349\n",
        "NotFollowXBack: 6\n",
        "activeNotFollowRatio: 0.97\n",
        "passiveNotFollowRatio: 0.4\n",
        "\n",
        "==================================================\n",
        "\n"
       ]
      },
      {
       "output_type": "stream",
       "stream": "stderr",
       "text": [
        "\n",
        "Fetched 77 total friends ids for stbessen"
       ]
      },
      {
       "output_type": "stream",
       "stream": "stderr",
       "text": [
        "\n",
        "Fetched 357 total followers ids for stbessen"
       ]
      },
      {
       "output_type": "stream",
       "stream": "stdout",
       "text": [
        "Report for stabi_bremen:\n",
        "========================\n",
        "\n",
        "File saved as stabi_bremen_NetWork_2014-04-06.csv\n",
        "\n",
        "Friends: 32\n",
        "Followers: 981\n",
        "followBack: 19\n",
        "XFollowsNotBack: 962\n",
        "NotFollowXBack: 13\n",
        "activeNotFollowRatio: 0.98\n",
        "passiveNotFollowRatio: 0.41\n",
        "\n",
        "==================================================\n",
        "\n"
       ]
      },
      {
       "output_type": "stream",
       "stream": "stderr",
       "text": [
        "\n",
        "Fetched 1065 total friends ids for stbibkoeln"
       ]
      },
      {
       "output_type": "stream",
       "stream": "stderr",
       "text": [
        "\n",
        "Fetched 2120 total followers ids for stbibkoeln"
       ]
      },
      {
       "output_type": "stream",
       "stream": "stdout",
       "text": [
        "Report for stbessen:\n",
        "====================\n",
        "\n",
        "File saved as stbessen_NetWork_2014-04-06.csv\n",
        "\n",
        "Friends: 77\n",
        "Followers: 357\n",
        "followBack: 35\n",
        "XFollowsNotBack: 322\n",
        "NotFollowXBack: 42\n",
        "activeNotFollowRatio: 0.9\n",
        "passiveNotFollowRatio: 0.55\n",
        "\n",
        "==================================================\n",
        "\n"
       ]
      },
      {
       "output_type": "stream",
       "stream": "stderr",
       "text": [
        "\n",
        "Fetched 917 total friends ids for stadtbueduedorf"
       ]
      },
      {
       "output_type": "stream",
       "stream": "stderr",
       "text": [
        "\n",
        "Fetched 433 total followers ids for stadtbueduedorf"
       ]
      },
      {
       "output_type": "stream",
       "stream": "stdout",
       "text": [
        "Report for stbibkoeln:\n",
        "======================\n",
        "\n",
        "File saved as stbibkoeln_NetWork_2014-04-06.csv\n",
        "\n",
        "Friends: 1065\n",
        "Followers: 2120\n",
        "followBack: 738\n",
        "XFollowsNotBack: 1382\n",
        "NotFollowXBack: 327\n",
        "activeNotFollowRatio: 0.65\n",
        "passiveNotFollowRatio: 0.31\n",
        "\n",
        "==================================================\n",
        "\n"
       ]
      },
      {
       "output_type": "stream",
       "stream": "stderr",
       "text": [
        "\n",
        "Fetched 131 total friends ids for hoeb4u"
       ]
      },
      {
       "output_type": "stream",
       "stream": "stderr",
       "text": [
        "\n",
        "Fetched 208 total followers ids for hoeb4u"
       ]
      },
      {
       "output_type": "stream",
       "stream": "stdout",
       "text": [
        "Report for stadtbueduedorf:\n",
        "===========================\n",
        "\n",
        "File saved as stadtbueduedorf_NetWork_2014-04-06.csv\n",
        "\n",
        "Friends: 917\n",
        "Followers: 433\n",
        "followBack: 271\n",
        "XFollowsNotBack: 162\n",
        "NotFollowXBack: 646\n",
        "activeNotFollowRatio: 0.37\n",
        "passiveNotFollowRatio: 0.7\n",
        "\n",
        "==================================================\n",
        "\n"
       ]
      },
      {
       "output_type": "stream",
       "stream": "stderr",
       "text": [
        "\n",
        "Fetched 50 total friends ids for bibliothek_wit"
       ]
      },
      {
       "output_type": "stream",
       "stream": "stderr",
       "text": [
        "\n",
        "Fetched 51 total followers ids for bibliothek_wit"
       ]
      },
      {
       "output_type": "stream",
       "stream": "stdout",
       "text": [
        "Report for hoeb4u:\n",
        "==================\n",
        "\n",
        "File saved as hoeb4u_NetWork_2014-04-06.csv\n",
        "\n",
        "Friends: 131\n",
        "Followers: 208\n",
        "followBack: 36\n",
        "XFollowsNotBack: 172\n",
        "NotFollowXBack: 95\n",
        "activeNotFollowRatio: 0.83\n",
        "passiveNotFollowRatio: 0.73\n",
        "\n",
        "==================================================\n",
        "\n"
       ]
      },
      {
       "output_type": "stream",
       "stream": "stderr",
       "text": [
        "\n",
        "Fetched 850 total friends ids for mediothek"
       ]
      },
      {
       "output_type": "stream",
       "stream": "stderr",
       "text": [
        "\n",
        "Encountered 429 Error (Rate Limit Exceeded)"
       ]
      },
      {
       "output_type": "stream",
       "stream": "stderr",
       "text": [
        "\n",
        "Retrying in 15 minutes...ZzZ...\n"
       ]
      },
      {
       "output_type": "stream",
       "stream": "stderr",
       "text": [
        "...ZzZ...Awake now and trying again.\n",
        "Fetched 667 total followers ids for mediothek"
       ]
      },
      {
       "output_type": "stream",
       "stream": "stdout",
       "text": [
        "Report for bibliothek_wit:\n",
        "==========================\n",
        "\n",
        "File saved as bibliothek_wit_NetWork_2014-04-06.csv\n",
        "\n",
        "Friends: 50\n",
        "Followers: 51\n",
        "followBack: 20\n",
        "XFollowsNotBack: 31\n",
        "NotFollowXBack: 30\n",
        "activeNotFollowRatio: 0.61\n",
        "passiveNotFollowRatio: 0.6\n",
        "\n",
        "==================================================\n",
        "\n"
       ]
      },
      {
       "output_type": "stream",
       "stream": "stderr",
       "text": [
        "\n",
        "Fetched 497 total friends ids for stabi_erlangen"
       ]
      },
      {
       "output_type": "stream",
       "stream": "stderr",
       "text": [
        "\n",
        "Fetched 986 total followers ids for stabi_erlangen"
       ]
      },
      {
       "output_type": "stream",
       "stream": "stdout",
       "text": [
        "Report for mediothek:\n",
        "=====================\n",
        "\n",
        "File saved as mediothek_NetWork_2014-04-06.csv\n",
        "\n",
        "Friends: 850\n",
        "Followers: 667\n",
        "followBack: 226\n",
        "XFollowsNotBack: 441\n",
        "NotFollowXBack: 624\n",
        "activeNotFollowRatio: 0.66\n",
        "passiveNotFollowRatio: 0.73\n",
        "\n",
        "==================================================\n",
        "\n"
       ]
      },
      {
       "output_type": "stream",
       "stream": "stderr",
       "text": [
        "\n",
        "Fetched 394 total friends ids for stabifr"
       ]
      },
      {
       "output_type": "stream",
       "stream": "stderr",
       "text": [
        "\n",
        "Fetched 623 total followers ids for stabifr"
       ]
      },
      {
       "output_type": "stream",
       "stream": "stdout",
       "text": [
        "Report for stabi_erlangen:\n",
        "==========================\n",
        "\n",
        "File saved as stabi_erlangen_NetWork_2014-04-06.csv\n",
        "\n",
        "Friends: 497\n",
        "Followers: 986\n",
        "followBack: 344\n",
        "XFollowsNotBack: 642\n",
        "NotFollowXBack: 153\n",
        "activeNotFollowRatio: 0.65\n",
        "passiveNotFollowRatio: 0.31\n",
        "\n",
        "==================================================\n",
        "\n"
       ]
      },
      {
       "output_type": "stream",
       "stream": "stderr",
       "text": [
        "\n",
        "Fetched 91 total friends ids for stabigoe"
       ]
      },
      {
       "output_type": "stream",
       "stream": "stderr",
       "text": [
        "\n",
        "Fetched 333 total followers ids for stabigoe"
       ]
      },
      {
       "output_type": "stream",
       "stream": "stdout",
       "text": [
        "Report for stabifr:\n",
        "===================\n",
        "\n",
        "File saved as stabifr_NetWork_2014-04-06.csv\n",
        "\n",
        "Friends: 394\n",
        "Followers: 623\n",
        "followBack: 183\n",
        "XFollowsNotBack: 440\n",
        "NotFollowXBack: 211\n",
        "activeNotFollowRatio: 0.71\n",
        "passiveNotFollowRatio: 0.54\n",
        "\n",
        "==================================================\n",
        "\n"
       ]
      },
      {
       "output_type": "stream",
       "stream": "stderr",
       "text": [
        "\n",
        "Fetched 585 total friends ids for stbneuss"
       ]
      },
      {
       "output_type": "stream",
       "stream": "stderr",
       "text": [
        "\n",
        "Fetched 397 total followers ids for stbneuss"
       ]
      },
      {
       "output_type": "stream",
       "stream": "stdout",
       "text": [
        "Report for stabigoe:\n",
        "====================\n",
        "\n",
        "File saved as stabigoe_NetWork_2014-04-06.csv\n",
        "\n",
        "Friends: 91\n",
        "Followers: 333\n",
        "followBack: 69\n",
        "XFollowsNotBack: 264\n",
        "NotFollowXBack: 22\n",
        "activeNotFollowRatio: 0.79\n",
        "passiveNotFollowRatio: 0.24\n",
        "\n",
        "==================================================\n",
        "\n"
       ]
      },
      {
       "output_type": "stream",
       "stream": "stderr",
       "text": [
        "\n",
        "Fetched 192 total friends ids for stbsalzgitter"
       ]
      },
      {
       "output_type": "stream",
       "stream": "stderr",
       "text": [
        "\n",
        "Fetched 229 total followers ids for stbsalzgitter"
       ]
      },
      {
       "output_type": "stream",
       "stream": "stdout",
       "text": [
        "Report for stbneuss:\n",
        "====================\n",
        "\n",
        "File saved as stbneuss_NetWork_2014-04-06.csv\n",
        "\n",
        "Friends: 585\n",
        "Followers: 397\n",
        "followBack: 353\n",
        "XFollowsNotBack: 44\n",
        "NotFollowXBack: 232\n",
        "activeNotFollowRatio: 0.11\n",
        "passiveNotFollowRatio: 0.4\n",
        "\n",
        "==================================================\n",
        "\n"
       ]
      },
      {
       "output_type": "stream",
       "stream": "stderr",
       "text": [
        "\n",
        "Fetched 28 total friends ids for stabiso"
       ]
      },
      {
       "output_type": "stream",
       "stream": "stderr",
       "text": [
        "\n",
        "Fetched 328 total followers ids for stabiso"
       ]
      },
      {
       "output_type": "stream",
       "stream": "stdout",
       "text": [
        "Report for stbsalzgitter:\n",
        "=========================\n",
        "\n",
        "File saved as stbsalzgitter_NetWork_2014-04-06.csv\n",
        "\n",
        "Friends: 192\n",
        "Followers: 229\n",
        "followBack: 102\n",
        "XFollowsNotBack: 127\n",
        "NotFollowXBack: 90\n",
        "activeNotFollowRatio: 0.55\n",
        "passiveNotFollowRatio: 0.47\n",
        "\n",
        "==================================================\n",
        "\n"
       ]
      },
      {
       "output_type": "stream",
       "stream": "stderr",
       "text": [
        "\n",
        "Fetched 1021 total friends ids for sbchemnitz"
       ]
      },
      {
       "output_type": "stream",
       "stream": "stderr",
       "text": [
        "\n",
        "Fetched 1103 total followers ids for sbchemnitz"
       ]
      },
      {
       "output_type": "stream",
       "stream": "stdout",
       "text": [
        "Report for stabiso:\n",
        "===================\n",
        "\n",
        "File saved as stabiso_NetWork_2014-04-06.csv\n",
        "\n",
        "Friends: 28\n",
        "Followers: 328\n",
        "followBack: 16\n",
        "XFollowsNotBack: 312\n",
        "NotFollowXBack: 12\n",
        "activeNotFollowRatio: 0.95\n",
        "passiveNotFollowRatio: 0.43\n",
        "\n",
        "==================================================\n",
        "\n"
       ]
      },
      {
       "output_type": "stream",
       "stream": "stderr",
       "text": [
        "\n",
        "Fetched 169 total friends ids for stabiguetersloh"
       ]
      },
      {
       "output_type": "stream",
       "stream": "stderr",
       "text": [
        "\n",
        "Fetched 445 total followers ids for stabiguetersloh"
       ]
      },
      {
       "output_type": "stream",
       "stream": "stdout",
       "text": [
        "Report for sbchemnitz:\n",
        "======================\n",
        "\n",
        "File saved as sbchemnitz_NetWork_2014-04-06.csv\n",
        "\n",
        "Friends: 1021\n",
        "Followers: 1103\n",
        "followBack: 347\n",
        "XFollowsNotBack: 756\n",
        "NotFollowXBack: 674\n",
        "activeNotFollowRatio: 0.69\n",
        "passiveNotFollowRatio: 0.66\n",
        "\n",
        "==================================================\n",
        "\n"
       ]
      },
      {
       "output_type": "stream",
       "stream": "stderr",
       "text": [
        "\n",
        "Fetched 264 total friends ids for stabi_mannheim"
       ]
      },
      {
       "output_type": "stream",
       "stream": "stderr",
       "text": [
        "\n",
        "Fetched 473 total followers ids for stabi_mannheim"
       ]
      },
      {
       "output_type": "stream",
       "stream": "stdout",
       "text": [
        "Report for stabiguetersloh:\n",
        "===========================\n",
        "\n",
        "File saved as stabiguetersloh_NetWork_2014-04-06.csv\n",
        "\n",
        "Friends: 169\n",
        "Followers: 445\n",
        "followBack: 87\n",
        "XFollowsNotBack: 358\n",
        "NotFollowXBack: 82\n",
        "activeNotFollowRatio: 0.8\n",
        "passiveNotFollowRatio: 0.49\n",
        "\n",
        "==================================================\n",
        "\n"
       ]
      },
      {
       "output_type": "stream",
       "stream": "stderr",
       "text": [
        "\n",
        "Fetched 17 total friends ids for stadtbibliothek"
       ]
      },
      {
       "output_type": "stream",
       "stream": "stderr",
       "text": [
        "\n",
        "Fetched 283 total followers ids for stadtbibliothek"
       ]
      },
      {
       "output_type": "stream",
       "stream": "stdout",
       "text": [
        "Report for stabi_mannheim:\n",
        "==========================\n",
        "\n",
        "File saved as stabi_mannheim_NetWork_2014-04-06.csv\n",
        "\n",
        "Friends: 264\n",
        "Followers: 473\n",
        "followBack: 128\n",
        "XFollowsNotBack: 345\n",
        "NotFollowXBack: 136\n",
        "activeNotFollowRatio: 0.73\n",
        "passiveNotFollowRatio: 0.52\n",
        "\n",
        "==================================================\n",
        "\n"
       ]
      },
      {
       "output_type": "stream",
       "stream": "stderr",
       "text": [
        "\n",
        "Fetched 703 total friends ids for stadtbibmg"
       ]
      },
      {
       "output_type": "stream",
       "stream": "stderr",
       "text": [
        "\n",
        "Fetched 319 total followers ids for stadtbibmg"
       ]
      },
      {
       "output_type": "stream",
       "stream": "stdout",
       "text": [
        "Report for stadtbibliothek:\n",
        "===========================\n",
        "\n",
        "File saved as stadtbibliothek_NetWork_2014-04-06.csv\n",
        "\n",
        "Friends: 17\n",
        "Followers: 283\n",
        "followBack: 10\n",
        "XFollowsNotBack: 273\n",
        "NotFollowXBack: 7\n",
        "activeNotFollowRatio: 0.96\n",
        "passiveNotFollowRatio: 0.41\n",
        "\n",
        "==================================================\n",
        "\n"
       ]
      },
      {
       "output_type": "stream",
       "stream": "stderr",
       "text": [
        "\n",
        "Fetched 3 total friends ids for buecherei_ms"
       ]
      },
      {
       "output_type": "stream",
       "stream": "stderr",
       "text": [
        "\n",
        "Fetched 108 total followers ids for buecherei_ms"
       ]
      },
      {
       "output_type": "stream",
       "stream": "stdout",
       "text": [
        "Report for stadtbibmg:\n",
        "======================\n",
        "\n",
        "File saved as stadtbibmg_NetWork_2014-04-06.csv\n",
        "\n",
        "Friends: 703\n",
        "Followers: 319\n",
        "followBack: 167\n",
        "XFollowsNotBack: 152\n",
        "NotFollowXBack: 536\n",
        "activeNotFollowRatio: 0.48\n",
        "passiveNotFollowRatio: 0.76\n",
        "\n",
        "==================================================\n",
        "\n"
       ]
      },
      {
       "output_type": "stream",
       "stream": "stderr",
       "text": [
        "\n",
        "Fetched 193 total friends ids for stabuewuerzburg"
       ]
      },
      {
       "output_type": "stream",
       "stream": "stderr",
       "text": [
        "\n",
        "Fetched 412 total followers ids for stabuewuerzburg"
       ]
      },
      {
       "output_type": "stream",
       "stream": "stdout",
       "text": [
        "Report for buecherei_ms:\n",
        "========================\n",
        "\n",
        "File saved as buecherei_ms_NetWork_2014-04-06.csv\n",
        "\n",
        "Friends: 3\n",
        "Followers: 108\n",
        "followBack: 1\n",
        "XFollowsNotBack: 107\n",
        "NotFollowXBack: 2\n",
        "activeNotFollowRatio: 0.99\n",
        "passiveNotFollowRatio: 0.67\n",
        "\n",
        "==================================================\n",
        "\n"
       ]
      },
      {
       "output_type": "stream",
       "stream": "stdout",
       "text": [
        "Report for stabuewuerzburg:\n",
        "===========================\n",
        "\n",
        "File saved as stabuewuerzburg_NetWork_2014-04-06.csv\n",
        "\n",
        "Friends: 193\n",
        "Followers: 412\n",
        "followBack: 103\n",
        "XFollowsNotBack: 309\n",
        "NotFollowXBack: 90\n",
        "activeNotFollowRatio: 0.75\n",
        "passiveNotFollowRatio: 0.47\n",
        "\n",
        "==================================================\n"
       ]
      },
      {
       "output_type": "stream",
       "stream": "stderr",
       "text": [
        "\n"
       ]
      }
     ],
     "prompt_number": 7
    },
    {
     "cell_type": "code",
     "collapsed": false,
     "input": [],
     "language": "python",
     "metadata": {},
     "outputs": []
    }
   ],
   "metadata": {}
  }
 ]
}